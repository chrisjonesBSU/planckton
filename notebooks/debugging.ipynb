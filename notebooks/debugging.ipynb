{
 "cells": [
  {
   "cell_type": "code",
   "execution_count": null,
   "metadata": {},
   "outputs": [
    {
     "data": {
      "text/html": [
       "<script>Jupyter.notebook.kernel.restart()</script>"
      ]
     },
     "metadata": {},
     "output_type": "display_data"
    }
   ],
   "source": [
    "from IPython.display import display_html\n",
    "def restartkernel():\n",
    "    display_html(\"<script>Jupyter.notebook.kernel.restart()</script>\",raw=True)\n",
    "restartkernel()\n",
    "\n"
   ]
  },
  {
   "cell_type": "code",
   "execution_count": 11,
   "metadata": {},
   "outputs": [
    {
     "name": "stderr",
     "output_type": "stream",
     "text": [
      "/home/mike/miniconda3/envs/planckton/lib/python3.6/site-packages/plyplus/plyplus.py:758: DeprecationWarning: invalid escape sequence '\\.'\n",
      "  return codecs.getdecoder('unicode_escape')(token_value)[0]\n",
      "/home/mike/miniconda3/envs/planckton/lib/python3.6/site-packages/plyplus/plyplus.py:758: DeprecationWarning: invalid escape sequence '\\d'\n",
      "  return codecs.getdecoder('unicode_escape')(token_value)[0]\n",
      "/home/mike/miniconda3/envs/planckton/lib/python3.6/site-packages/plyplus/plyplus.py:758: DeprecationWarning: invalid escape sequence '\\('\n",
      "  return codecs.getdecoder('unicode_escape')(token_value)[0]\n",
      "/home/mike/miniconda3/envs/planckton/lib/python3.6/site-packages/plyplus/plyplus.py:758: DeprecationWarning: invalid escape sequence '\\)'\n",
      "  return codecs.getdecoder('unicode_escape')(token_value)[0]\n",
      "/home/mike/miniconda3/envs/planckton/lib/python3.6/site-packages/plyplus/plyplus.py:758: DeprecationWarning: invalid escape sequence '\\+'\n",
      "  return codecs.getdecoder('unicode_escape')(token_value)[0]\n",
      "/home/mike/miniconda3/envs/planckton/lib/python3.6/site-packages/plyplus/plyplus.py:758: DeprecationWarning: invalid escape sequence '\\*'\n",
      "  return codecs.getdecoder('unicode_escape')(token_value)[0]\n",
      "UsageError: Line magic function `%inline` not found.\n"
     ]
    }
   ],
   "source": [
    "import parmed as pmd\n",
    "import mbuild as mb\n",
    "import numpy as np\n",
    "import foyer\n",
    "from scipy.optimize import curve_fit\n",
    "from itertools import tee\n",
    "import matplotlib.pyplot as plt\n",
    "%inline matplotlib \n",
    "import warnings\n",
    "warnings.filterwarnings('ignore')"
   ]
  },
  {
   "cell_type": "code",
   "execution_count": 2,
   "metadata": {},
   "outputs": [],
   "source": [
    "ptb7 = mb.load(\"compounds/ptb7_typed.mol2\")\n",
    "itic = mb.load(\"compounds/itic_typed.mol2\")\n",
    "#cmpd = pmd.load_file(\"compounds/itic_typed.mol2\")"
   ]
  },
  {
   "cell_type": "code",
   "execution_count": 3,
   "metadata": {},
   "outputs": [],
   "source": [
    "#ptb7.visualize() #mono"
   ]
  },
  {
   "cell_type": "code",
   "execution_count": 4,
   "metadata": {},
   "outputs": [],
   "source": [
    "class TestCompound(mb.Compound):\n",
    "    def __init__(self):\n",
    "        super(TestCompound, self).__init__()\n",
    "        a = mb.Particle(name='A')\n",
    "        self.add(a, label='A')\n",
    "        b = mb.Particle(name='B',pos=[1, 0, 0])\n",
    "        self.add(b, label='B')\n",
    "test_cmpd = TestCompound().save(\"distance_check.hoomdxml\", overwrite=True)"
   ]
  },
  {
   "cell_type": "code",
   "execution_count": 5,
   "metadata": {},
   "outputs": [
    {
     "name": "stdout",
     "output_type": "stream",
     "text": [
      "<?xml version=\"1.2\" encoding=\"UTF-8\"?>\r\n",
      "<hoomd_xml version=\"1.2\">\r\n",
      "<configuration time_step=\"0\">\r\n",
      "<box units=\"sigma\"  Lx=\"15.0\" Ly=\"5.0\" Lz=\"5.0\"/>\r\n",
      "<position units=\"sigma\" num=\"2\">\r\n",
      "-7.5\t-2.5\t-2.5\r\n",
      "2.5\t-2.5\t-2.5\r\n",
      "</position>\r\n",
      "<type>\r\n",
      "A\r\n"
     ]
    }
   ],
   "source": [
    "!head distance_check.hoomdxml"
   ]
  },
  {
   "cell_type": "code",
   "execution_count": 14,
   "metadata": {
    "scrolled": true
   },
   "outputs": [
    {
     "name": "stdout",
     "output_type": "stream",
     "text": [
      "71396.96\n",
      "5.532782420549309\n"
     ]
    }
   ],
   "source": [
    "def test_typing(compound_file, ff_file):\n",
    "    compound_mb = mb.load(compound_file)\n",
    "    compound_pmd = pmd.load_file(compound_file)\n",
    "    n_compounds = [50]\n",
    "    density = 700\n",
    "    compound = [compound_mb]\n",
    "    total_mass = np.sum([n*np.sum([a.mass for a in c.to_parmed().atoms]) for c,n in zip(compound, n_compounds)])\n",
    "    print(total_mass)\n",
    "    L = (total_mass/density)**(1/3)*1.1841763\n",
    "    print(L)\n",
    "    types_needed = set()\n",
    "    for atom_pmd, atom_mb in zip(compound_pmd, compound_mb):\n",
    "        atom_mb.name = \"_{}\".format(atom_pmd.type)\n",
    "        types_needed.add(atom_pmd.type)\n",
    "    #box = mb.packing.fill_box(compound_mb, n_compounds=50, box=[6.53, 6.53, 6.53], overlap=0.2, fix_orientation=False)\n",
    "    #box.save(\"test_typing.hoomdxml\", \n",
    "    #        overwrite=True,\n",
    "    #        forcefield_files=\"compounds/gaff.4fxml\",\n",
    "    #        ref_mass=32.06,\n",
    "    #        ref_energy=1.046,\n",
    "    #        ref_distance=0.35635948725613575)\n",
    "\n",
    "compound_file = \"compounds/itic_typed.mol2\"\n",
    "ff_file = \"compounds/gaff.4fxml\"\n",
    "test_typing(compound_file, ff_file)\n",
    "\n",
    "#box = mb.packing.fill_box(itic_mb, n_compounds=1, box=[10, 10, 10], fix_orientation=False)\n",
    "#box.save(\"itic_box.hoomdxml\",\n",
    "#         forcefield_files=\"force_fields/gaff/opv_gaff.xml\",\n",
    "#         overwrite=True,\n",
    "#         ref_distance=3.56359487256,\n",
    "#         ref_mass=32.06,\n",
    "#         ref_energy=1,)\n",
    "         #foyer_kwargs=foyer_kwargs)\n"
   ]
  },
  {
   "cell_type": "code",
   "execution_count": 3,
   "metadata": {},
   "outputs": [
    {
     "name": "stdout",
     "output_type": "stream",
     "text": [
      "<Compound 186 particles, non-periodic, 200 bonds, id: 140102036411392>\n",
      "_ca\n",
      "_ca\n",
      "_ca\n",
      "_ha\n",
      "_ca\n",
      "_ha\n",
      "_ca\n",
      "_ca\n",
      "_ha\n",
      "_ha\n",
      "_cc\n",
      "_cc\n",
      "_c\n",
      "_o\n",
      "_cf\n",
      "_ch\n",
      "_ch\n",
      "_n1\n",
      "_n1\n",
      "_cf\n",
      "_cd\n",
      "_ha\n",
      "_ss\n",
      "_cd\n",
      "_cc\n",
      "_cc\n",
      "_ha\n",
      "_cd\n",
      "_ss\n",
      "_cc\n",
      "_c3\n",
      "_ca\n",
      "_ca\n",
      "_ca\n",
      "_ca\n",
      "_ca\n",
      "_ca\n",
      "_ca\n",
      "_ca\n",
      "_ca\n",
      "_ca\n",
      "_ca\n",
      "_ca\n",
      "_ca\n",
      "_ca\n",
      "_ha\n",
      "_ha\n",
      "_ha\n",
      "_ha\n",
      "_ha\n",
      "_ha\n",
      "_ha\n",
      "_ha\n",
      "_c3\n",
      "_c3\n",
      "_hc\n",
      "_hc\n",
      "_c3\n",
      "_hc\n",
      "_hc\n",
      "_c3\n",
      "_hc\n",
      "_hc\n",
      "_c3\n",
      "_hc\n",
      "_hc\n",
      "_c3\n",
      "_hc\n",
      "_hc\n",
      "_hc\n",
      "_hc\n",
      "_hc\n",
      "_c3\n",
      "_c3\n",
      "_hc\n",
      "_hc\n",
      "_c3\n",
      "_hc\n",
      "_hc\n",
      "_c3\n",
      "_hc\n",
      "_hc\n",
      "_c3\n",
      "_hc\n",
      "_hc\n",
      "_c3\n",
      "_hc\n",
      "_hc\n",
      "_hc\n",
      "_hc\n",
      "_hc\n",
      "_ca\n",
      "_ca\n",
      "_ca\n",
      "_ca\n",
      "_ha\n",
      "_ha\n",
      "_cd\n",
      "_c3\n",
      "_cc\n",
      "_ss\n",
      "_cd\n",
      "_cc\n",
      "_ca\n",
      "_ca\n",
      "_ca\n",
      "_ca\n",
      "_ca\n",
      "_ca\n",
      "_ca\n",
      "_ca\n",
      "_ca\n",
      "_ca\n",
      "_ca\n",
      "_ca\n",
      "_c3\n",
      "_c3\n",
      "_hc\n",
      "_hc\n",
      "_c3\n",
      "_hc\n",
      "_hc\n",
      "_c3\n",
      "_hc\n",
      "_hc\n",
      "_c3\n",
      "_hc\n",
      "_hc\n",
      "_c3\n",
      "_hc\n",
      "_hc\n",
      "_hc\n",
      "_hc\n",
      "_hc\n",
      "_c3\n",
      "_c3\n",
      "_hc\n",
      "_hc\n",
      "_c3\n",
      "_hc\n",
      "_hc\n",
      "_c3\n",
      "_hc\n",
      "_hc\n",
      "_c3\n",
      "_hc\n",
      "_hc\n",
      "_c3\n",
      "_hc\n",
      "_hc\n",
      "_hc\n",
      "_hc\n",
      "_hc\n",
      "_ha\n",
      "_ha\n",
      "_ha\n",
      "_ha\n",
      "_ha\n",
      "_ha\n",
      "_ha\n",
      "_ha\n",
      "_ss\n",
      "_cc\n",
      "_cd\n",
      "_ha\n",
      "_ce\n",
      "_cd\n",
      "_ha\n",
      "_c\n",
      "_ca\n",
      "_ca\n",
      "_cd\n",
      "_o\n",
      "_ce\n",
      "_cg\n",
      "_cg\n",
      "_n1\n",
      "_n1\n",
      "_ca\n",
      "_ca\n",
      "_ca\n",
      "_ca\n",
      "_ha\n",
      "_ha\n",
      "_ha\n",
      "_ha\n"
     ]
    },
    {
     "data": {
      "text/plain": [
       "1427.9392"
      ]
     },
     "execution_count": 3,
     "metadata": {},
     "output_type": "execute_result"
    }
   ],
   "source": [
    "class Compound(mb.Compound):\n",
    "    ''' Wrapper class for mb.Compound'''\n",
    "    def __init__(self, path_to_mol2):\n",
    "        super(Compound, self).__init__()\n",
    "        mb.load(path_to_mol2, compound=self)\n",
    "        self.mass = np.sum([atom.mass for atom in self.to_parmed().atoms])\n",
    "        # We need to rename the atom types\n",
    "        compound_pmd = pmd.load_file(path_to_mol2)\n",
    "        for atom_pmd, atom_mb in zip(compound_pmd, self):\n",
    "            atom_mb.name = \"_{}\".format(atom_pmd.type)\n",
    "\n",
    "            \n",
    "test = Compound(\"compounds/itic_typed.mol2\")\n",
    "print(test)\n",
    "for atom in test:\n",
    "    print(atom.name)\n",
    "test.mass"
   ]
  },
  {
   "cell_type": "code",
   "execution_count": 8,
   "metadata": {
    "scrolled": false
   },
   "outputs": [
    {
     "data": {
      "text/plain": [
       "['ANGLE_FORCE_GROUP',\n",
       " 'BOND_FORCE_GROUP',\n",
       " 'CMAP_FORCE_GROUP',\n",
       " 'DIHEDRAL_FORCE_GROUP',\n",
       " 'IMPROPER_FORCE_GROUP',\n",
       " 'NONBONDED_FORCE_GROUP',\n",
       " 'OUT_OF_PLANE_BEND_FORCE_GROUP',\n",
       " 'PI_TORSION_FORCE_GROUP',\n",
       " 'RB_TORSION_FORCE_GROUP',\n",
       " 'STRETCH_BEND_FORCE_GROUP',\n",
       " 'TORSION_TORSION_FORCE_GROUP',\n",
       " 'TRIGONAL_ANGLE_FORCE_GROUP',\n",
       " 'UREY_BRADLEY_FORCE_GROUP',\n",
       " '__add__',\n",
       " '__bool__',\n",
       " '__class__',\n",
       " '__copy__',\n",
       " '__delattr__',\n",
       " '__dict__',\n",
       " '__dir__',\n",
       " '__doc__',\n",
       " '__eq__',\n",
       " '__format__',\n",
       " '__ge__',\n",
       " '__getattribute__',\n",
       " '__getitem__',\n",
       " '__getstate__',\n",
       " '__gt__',\n",
       " '__hash__',\n",
       " '__iadd__',\n",
       " '__imul__',\n",
       " '__init__',\n",
       " '__init_subclass__',\n",
       " '__le__',\n",
       " '__lt__',\n",
       " '__module__',\n",
       " '__mul__',\n",
       " '__ne__',\n",
       " '__new__',\n",
       " '__nonzero__',\n",
       " '__reduce__',\n",
       " '__reduce_ex__',\n",
       " '__repr__',\n",
       " '__rmul__',\n",
       " '__setattr__',\n",
       " '__setstate__',\n",
       " '__sizeof__',\n",
       " '__str__',\n",
       " '__subclasshook__',\n",
       " '__weakref__',\n",
       " '_add_force_to_system',\n",
       " '_box',\n",
       " '_combining_rule',\n",
       " '_coordinates',\n",
       " '_get_gb_parameters',\n",
       " '_get_selection_array',\n",
       " '_omm_geometric_force',\n",
       " '_omm_nbfixed_force',\n",
       " '_prune_empty_adjusts',\n",
       " '_prune_empty_angles',\n",
       " '_prune_empty_bonds',\n",
       " '_prune_empty_chiral_frames',\n",
       " '_prune_empty_cmaps',\n",
       " '_prune_empty_dihedrals',\n",
       " '_prune_empty_impropers',\n",
       " '_prune_empty_multipole_frames',\n",
       " '_prune_empty_out_of_plane_bends',\n",
       " '_prune_empty_pi_torsions',\n",
       " '_prune_empty_rb_torsions',\n",
       " '_prune_empty_stretch_bends',\n",
       " '_prune_empty_torsion_torsions',\n",
       " '_prune_empty_trigonal_angles',\n",
       " '_prune_empty_ureys',\n",
       " 'acceptors',\n",
       " 'add_atom',\n",
       " 'add_atom_to_residue',\n",
       " 'adjust_types',\n",
       " 'adjusts',\n",
       " 'angle_types',\n",
       " 'angles',\n",
       " 'assign_bonds',\n",
       " 'atoms',\n",
       " 'bond_types',\n",
       " 'bonds',\n",
       " 'box',\n",
       " 'box_vectors',\n",
       " 'chiral_frames',\n",
       " 'cmap_types',\n",
       " 'cmaps',\n",
       " 'combining_rule',\n",
       " 'coordinates',\n",
       " 'copy',\n",
       " 'createSystem',\n",
       " 'dihedral_types',\n",
       " 'dihedrals',\n",
       " 'donors',\n",
       " 'get_box',\n",
       " 'get_coordinates',\n",
       " 'groups',\n",
       " 'has_NBFIX',\n",
       " 'improper_types',\n",
       " 'impropers',\n",
       " 'is_changed',\n",
       " 'join_dihedrals',\n",
       " 'load_dataframe',\n",
       " 'multipole_frames',\n",
       " 'nrexcl',\n",
       " 'omm_add_constraints',\n",
       " 'omm_angle_force',\n",
       " 'omm_bond_force',\n",
       " 'omm_cmap_force',\n",
       " 'omm_dihedral_force',\n",
       " 'omm_gbsa_force',\n",
       " 'omm_improper_force',\n",
       " 'omm_nonbonded_force',\n",
       " 'omm_out_of_plane_bend_force',\n",
       " 'omm_pi_torsion_force',\n",
       " 'omm_rb_torsion_force',\n",
       " 'omm_set_virtual_sites',\n",
       " 'omm_stretch_bend_force',\n",
       " 'omm_torsion_torsion_force',\n",
       " 'omm_trigonal_angle_force',\n",
       " 'omm_urey_bradley_force',\n",
       " 'out_of_plane_bend_types',\n",
       " 'out_of_plane_bends',\n",
       " 'pi_torsion_types',\n",
       " 'pi_torsions',\n",
       " 'positions',\n",
       " 'prune_empty_terms',\n",
       " 'rb_torsion_types',\n",
       " 'rb_torsions',\n",
       " 'residues',\n",
       " 'save',\n",
       " 'space_group',\n",
       " 'split',\n",
       " 'stretch_bend_types',\n",
       " 'stretch_bends',\n",
       " 'strip',\n",
       " 'symmetry',\n",
       " 'title',\n",
       " 'to_dataframe',\n",
       " 'topology',\n",
       " 'torsion_torsion_types',\n",
       " 'torsion_torsions',\n",
       " 'trigonal_angle_types',\n",
       " 'trigonal_angles',\n",
       " 'unchange',\n",
       " 'unknown_functional',\n",
       " 'update_dihedral_exclusions',\n",
       " 'urey_bradley_types',\n",
       " 'urey_bradleys',\n",
       " 'velocities',\n",
       " 'view',\n",
       " 'visualize',\n",
       " 'write_cif',\n",
       " 'write_pdb',\n",
       " 'write_psf']"
      ]
     },
     "execution_count": 8,
     "metadata": {},
     "output_type": "execute_result"
    }
   ],
   "source": [
    "# 1427.9392\n",
    "['ANGLE_FORCE_GROUP', 'BOND_FORCE_GROUP', 'CMAP_FORCE_GROUP', 'DIHEDRAL_FORCE_GROUP', 'IMPROPER_FORCE_GROUP', 'NONBONDED_FORCE_GROUP', 'OUT_OF_PLANE_BEND_FORCE_GROUP', 'PI_TORSION_FORCE_GROUP', 'RB_TORSION_FORCE_GROUP', 'STRETCH_BEND_FORCE_GROUP', 'TORSION_TORSION_FORCE_GROUP', 'TRIGONAL_ANGLE_FORCE_GROUP', 'UREY_BRADLEY_FORCE_GROUP', '__add__', '__bool__', '__class__', '__copy__', '__delattr__', '__dict__', '__dir__', '__doc__', '__eq__', '__format__', '__ge__', '__getattribute__', '__getitem__', '__getstate__', '__gt__', '__hash__', '__iadd__', '__imul__', '__init__', '__init_subclass__', '__le__', '__lt__', '__module__', '__mul__', '__ne__', '__new__', '__nonzero__', '__reduce__', '__reduce_ex__', '__repr__', '__rmul__', '__setattr__', '__setstate__', '__sizeof__', '__str__', '__subclasshook__', '__weakref__', '_add_force_to_system', '_box', '_combining_rule', '_coordinates', '_get_gb_parameters', '_get_selection_array', '_omm_geometric_force', '_omm_nbfixed_force', '_prune_empty_adjusts', '_prune_empty_angles', '_prune_empty_bonds', '_prune_empty_chiral_frames', '_prune_empty_cmaps', '_prune_empty_dihedrals', '_prune_empty_impropers', '_prune_empty_multipole_frames', '_prune_empty_out_of_plane_bends', '_prune_empty_pi_torsions', '_prune_empty_rb_torsions', '_prune_empty_stretch_bends', '_prune_empty_torsion_torsions', '_prune_empty_trigonal_angles', '_prune_empty_ureys', 'acceptors', 'add_atom', 'add_atom_to_residue', 'adjust_types', 'adjusts', 'angle_types', 'angles', 'assign_bonds', 'atoms', 'bond_types', 'bonds', 'box', 'box_vectors', 'chiral_frames', 'cmap_types', 'cmaps', 'combining_rule', 'coordinates', 'copy', 'createSystem', 'dihedral_types', 'dihedrals', 'donors', 'get_box', 'get_coordinates', 'groups', 'has_NBFIX', 'improper_types', 'impropers', 'is_changed', 'join_dihedrals', 'load_dataframe', 'multipole_frames', 'nrexcl', 'omm_add_constraints', 'omm_angle_force', 'omm_bond_force', 'omm_cmap_force', 'omm_dihedral_force', 'omm_gbsa_force', 'omm_improper_force', 'omm_nonbonded_force', 'omm_out_of_plane_bend_force', 'omm_pi_torsion_force', 'omm_rb_torsion_force', 'omm_set_virtual_sites', 'omm_stretch_bend_force', 'omm_torsion_torsion_force', 'omm_trigonal_angle_force', 'omm_urey_bradley_force', 'out_of_plane_bend_types', 'out_of_plane_bends', 'pi_torsion_types', 'pi_torsions', 'positions', 'prune_empty_terms', 'rb_torsion_types', 'rb_torsions', 'residues', 'save', 'space_group', 'split', 'stretch_bend_types', 'stretch_bends', 'strip', 'symmetry', 'title', 'to_dataframe', 'topology', 'torsion_torsion_types', 'torsion_torsions', 'trigonal_angle_types', 'trigonal_angles', 'unchange', 'unknown_functional', 'update_dihedral_exclusions', 'urey_bradley_types', 'urey_bradleys', 'velocities', 'view', 'visualize', 'write_cif', 'write_pdb', 'write_psf']\n"
   ]
  },
  {
   "cell_type": "code",
   "execution_count": 3,
   "metadata": {},
   "outputs": [
    {
     "name": "stderr",
     "output_type": "stream",
     "text": [
      "/home/mike/Projects/mbuild/mbuild/compound.py:2183: UserWarning: Guessing that \"<_ca pos=(-18.0165,-18.5025,-7.2835), 0 bonds, id: 139993977014592>\" is element: \"EP\"\n",
      "  atom, element))\n",
      "/home/mike/Projects/mbuild/mbuild/compound.py:2183: UserWarning: Guessing that \"<_ha pos=(-17.5695,-16.5325,-7.9805), 0 bonds, id: 139993977015488>\" is element: \"EP\"\n",
      "  atom, element))\n",
      "/home/mike/Projects/mbuild/mbuild/compound.py:2183: UserWarning: Guessing that \"<_cc pos=(-15.4575,-21.2405,-6.9105), 0 bonds, id: 139993976993720>\" is element: \"EP\"\n",
      "  atom, element))\n",
      "/home/mike/Projects/mbuild/mbuild/compound.py:2183: UserWarning: Guessing that \"<_c pos=(-13.8935,-19.4865,-7.4345), 0 bonds, id: 139993976992488>\" is element: \"EP\"\n",
      "  atom, element))\n",
      "/home/mike/Projects/mbuild/mbuild/compound.py:2183: UserWarning: Guessing that \"<_o pos=(-12.8765,-18.8395,-7.6495), 0 bonds, id: 139993976992824>\" is element: \"EP\"\n",
      "  atom, element))\n",
      "/home/mike/Projects/mbuild/mbuild/compound.py:2183: UserWarning: Guessing that \"<_cf pos=(-16.0505,-22.5085,-6.8835), 0 bonds, id: 139993976994952>\" is element: \"EP\"\n",
      "  atom, element))\n",
      "/home/mike/Projects/mbuild/mbuild/compound.py:2183: UserWarning: Guessing that \"<_ch pos=(-17.3935,-22.6735,-7.3135), 0 bonds, id: 139993977010888>\" is element: \"EP\"\n",
      "  atom, element))\n",
      "/home/mike/Projects/mbuild/mbuild/compound.py:2183: UserWarning: Guessing that \"<_n1 pos=(-18.4855,-22.7955,-7.6655), 0 bonds, id: 139993977008368>\" is element: \"EP\"\n",
      "  atom, element))\n",
      "/home/mike/Projects/mbuild/mbuild/compound.py:2183: UserWarning: Guessing that \"<_cd pos=(-11.8565,-22.4495,-6.8495), 0 bonds, id: 139993977011672>\" is element: \"EP\"\n",
      "  atom, element))\n",
      "/home/mike/Projects/mbuild/mbuild/compound.py:2183: UserWarning: Guessing that \"<_ss pos=(-10.4285,-21.5805,-6.9945), 0 bonds, id: 139993977009320>\" is element: \"EP\"\n",
      "  atom, element))\n",
      "/home/mike/Projects/mbuild/mbuild/compound.py:2183: UserWarning: Guessing that \"<_hc pos=(-12.8645,-18.5705,-4.9755), 0 bonds, id: 139993976865064>\" is element: \"EP\"\n",
      "  atom, element))\n",
      "/home/mike/Projects/mbuild/mbuild/compound.py:2183: UserWarning: Guessing that \"<_ce pos=( 3.3065,-26.0265,-2.2225), 0 bonds, id: 139994016451720>\" is element: \"EP\"\n",
      "  atom, element))\n",
      "/home/mike/Projects/mbuild/mbuild/compound.py:2183: UserWarning: Guessing that \"<_cg pos=( 5.9155,-24.5245,-1.1705), 0 bonds, id: 139994016445720>\" is element: \"EP\"\n",
      "  atom, element))\n"
     ]
    },
    {
     "name": "stdout",
     "output_type": "stream",
     "text": [
      "<Atom 0 (_ca) of chain 0 residue 0 (RES)>\n"
     ]
    },
    {
     "name": "stderr",
     "output_type": "stream",
     "text": [
      "/home/mike/Projects/foyer/foyer/forcefield.py:296: UserWarning: Non-atomistic element type detected. Creating custom element for _c\n",
      "  'Creating custom element for {}'.format(element))\n",
      "/home/mike/Projects/foyer/foyer/forcefield.py:296: UserWarning: Non-atomistic element type detected. Creating custom element for _c3\n",
      "  'Creating custom element for {}'.format(element))\n",
      "/home/mike/Projects/foyer/foyer/forcefield.py:296: UserWarning: Non-atomistic element type detected. Creating custom element for _ca\n",
      "  'Creating custom element for {}'.format(element))\n",
      "/home/mike/Projects/foyer/foyer/forcefield.py:296: UserWarning: Non-atomistic element type detected. Creating custom element for _cc\n",
      "  'Creating custom element for {}'.format(element))\n",
      "/home/mike/Projects/foyer/foyer/forcefield.py:296: UserWarning: Non-atomistic element type detected. Creating custom element for _cd\n",
      "  'Creating custom element for {}'.format(element))\n",
      "/home/mike/Projects/foyer/foyer/forcefield.py:296: UserWarning: Non-atomistic element type detected. Creating custom element for _ce\n",
      "  'Creating custom element for {}'.format(element))\n",
      "/home/mike/Projects/foyer/foyer/forcefield.py:296: UserWarning: Non-atomistic element type detected. Creating custom element for _cf\n",
      "  'Creating custom element for {}'.format(element))\n",
      "/home/mike/Projects/foyer/foyer/forcefield.py:296: UserWarning: Non-atomistic element type detected. Creating custom element for _cg\n",
      "  'Creating custom element for {}'.format(element))\n",
      "/home/mike/Projects/foyer/foyer/forcefield.py:296: UserWarning: Non-atomistic element type detected. Creating custom element for _ch\n",
      "  'Creating custom element for {}'.format(element))\n",
      "/home/mike/Projects/foyer/foyer/forcefield.py:296: UserWarning: Non-atomistic element type detected. Creating custom element for _ha\n",
      "  'Creating custom element for {}'.format(element))\n",
      "/home/mike/Projects/foyer/foyer/forcefield.py:296: UserWarning: Non-atomistic element type detected. Creating custom element for _hc\n",
      "  'Creating custom element for {}'.format(element))\n",
      "/home/mike/Projects/foyer/foyer/forcefield.py:296: UserWarning: Non-atomistic element type detected. Creating custom element for _f\n",
      "  'Creating custom element for {}'.format(element))\n",
      "/home/mike/Projects/foyer/foyer/forcefield.py:296: UserWarning: Non-atomistic element type detected. Creating custom element for _n1\n",
      "  'Creating custom element for {}'.format(element))\n",
      "/home/mike/Projects/foyer/foyer/forcefield.py:296: UserWarning: Non-atomistic element type detected. Creating custom element for _o\n",
      "  'Creating custom element for {}'.format(element))\n",
      "/home/mike/Projects/foyer/foyer/forcefield.py:296: UserWarning: Non-atomistic element type detected. Creating custom element for _ss\n",
      "  'Creating custom element for {}'.format(element))\n",
      "/home/mike/miniconda3/envs/mbuild/lib/python3.6/site-packages/plyplus/plyplus.py:758: DeprecationWarning: invalid escape sequence '\\#'\n",
      "  return codecs.getdecoder('unicode_escape')(token_value)[0]\n",
      "/home/mike/miniconda3/envs/mbuild/lib/python3.6/site-packages/plyplus/plyplus.py:758: DeprecationWarning: invalid escape sequence '\\['\n",
      "  return codecs.getdecoder('unicode_escape')(token_value)[0]\n",
      "/home/mike/miniconda3/envs/mbuild/lib/python3.6/site-packages/plyplus/plyplus.py:758: DeprecationWarning: invalid escape sequence '\\]'\n",
      "  return codecs.getdecoder('unicode_escape')(token_value)[0]\n",
      "/home/mike/miniconda3/envs/mbuild/lib/python3.6/site-packages/plyplus/plyplus.py:758: DeprecationWarning: invalid escape sequence '\\('\n",
      "  return codecs.getdecoder('unicode_escape')(token_value)[0]\n",
      "/home/mike/miniconda3/envs/mbuild/lib/python3.6/site-packages/plyplus/plyplus.py:758: DeprecationWarning: invalid escape sequence '\\)'\n",
      "  return codecs.getdecoder('unicode_escape')(token_value)[0]\n",
      "/home/mike/miniconda3/envs/mbuild/lib/python3.6/site-packages/plyplus/plyplus.py:758: DeprecationWarning: invalid escape sequence '\\,'\n",
      "  return codecs.getdecoder('unicode_escape')(token_value)[0]\n",
      "/home/mike/miniconda3/envs/mbuild/lib/python3.6/site-packages/plyplus/plyplus.py:758: DeprecationWarning: invalid escape sequence '\\;'\n",
      "  return codecs.getdecoder('unicode_escape')(token_value)[0]\n",
      "/home/mike/miniconda3/envs/mbuild/lib/python3.6/site-packages/plyplus/plyplus.py:758: DeprecationWarning: invalid escape sequence '\\&'\n",
      "  return codecs.getdecoder('unicode_escape')(token_value)[0]\n",
      "/home/mike/miniconda3/envs/mbuild/lib/python3.6/site-packages/plyplus/plyplus.py:758: DeprecationWarning: invalid escape sequence '\\*'\n",
      "  return codecs.getdecoder('unicode_escape')(token_value)[0]\n",
      "/home/mike/miniconda3/envs/mbuild/lib/python3.6/site-packages/plyplus/plyplus.py:758: DeprecationWarning: invalid escape sequence '\\$'\n",
      "  return codecs.getdecoder('unicode_escape')(token_value)[0]\n",
      "/home/mike/miniconda3/envs/mbuild/lib/python3.6/site-packages/plyplus/plyplus.py:758: DeprecationWarning: invalid escape sequence '\\d'\n",
      "  return codecs.getdecoder('unicode_escape')(token_value)[0]\n",
      "/home/mike/miniconda3/envs/mbuild/lib/python3.6/site-packages/plyplus/plyplus.py:758: DeprecationWarning: invalid escape sequence '\\%'\n",
      "  return codecs.getdecoder('unicode_escape')(token_value)[0]\n",
      "/home/mike/miniconda3/envs/mbuild/lib/python3.6/site-packages/plyplus/plyplus.py:758: DeprecationWarning: invalid escape sequence '\\!'\n",
      "  return codecs.getdecoder('unicode_escape')(token_value)[0]\n",
      "/home/mike/Projects/foyer/foyer/validator.py:163: ValidationWarning: There are 83 atom types that are missing a smarts definition. To view the missing atom types, re-run with debug=True when applying the forcefield.\n",
      "  \"applying the forcefield.\".format(len(missing_smarts)), ValidationWarning)\n",
      "/home/mike/miniconda3/envs/mbuild/lib/python3.6/site-packages/plyplus/plyplus.py:758: DeprecationWarning: invalid escape sequence '\\#'\n",
      "  return codecs.getdecoder('unicode_escape')(token_value)[0]\n",
      "/home/mike/miniconda3/envs/mbuild/lib/python3.6/site-packages/plyplus/plyplus.py:758: DeprecationWarning: invalid escape sequence '\\['\n",
      "  return codecs.getdecoder('unicode_escape')(token_value)[0]\n",
      "/home/mike/miniconda3/envs/mbuild/lib/python3.6/site-packages/plyplus/plyplus.py:758: DeprecationWarning: invalid escape sequence '\\]'\n",
      "  return codecs.getdecoder('unicode_escape')(token_value)[0]\n",
      "/home/mike/miniconda3/envs/mbuild/lib/python3.6/site-packages/plyplus/plyplus.py:758: DeprecationWarning: invalid escape sequence '\\('\n",
      "  return codecs.getdecoder('unicode_escape')(token_value)[0]\n",
      "/home/mike/miniconda3/envs/mbuild/lib/python3.6/site-packages/plyplus/plyplus.py:758: DeprecationWarning: invalid escape sequence '\\)'\n",
      "  return codecs.getdecoder('unicode_escape')(token_value)[0]\n",
      "/home/mike/miniconda3/envs/mbuild/lib/python3.6/site-packages/plyplus/plyplus.py:758: DeprecationWarning: invalid escape sequence '\\,'\n",
      "  return codecs.getdecoder('unicode_escape')(token_value)[0]\n",
      "/home/mike/miniconda3/envs/mbuild/lib/python3.6/site-packages/plyplus/plyplus.py:758: DeprecationWarning: invalid escape sequence '\\;'\n",
      "  return codecs.getdecoder('unicode_escape')(token_value)[0]\n",
      "/home/mike/miniconda3/envs/mbuild/lib/python3.6/site-packages/plyplus/plyplus.py:758: DeprecationWarning: invalid escape sequence '\\&'\n",
      "  return codecs.getdecoder('unicode_escape')(token_value)[0]\n",
      "/home/mike/miniconda3/envs/mbuild/lib/python3.6/site-packages/plyplus/plyplus.py:758: DeprecationWarning: invalid escape sequence '\\*'\n",
      "  return codecs.getdecoder('unicode_escape')(token_value)[0]\n",
      "/home/mike/miniconda3/envs/mbuild/lib/python3.6/site-packages/plyplus/plyplus.py:758: DeprecationWarning: invalid escape sequence '\\$'\n",
      "  return codecs.getdecoder('unicode_escape')(token_value)[0]\n",
      "/home/mike/miniconda3/envs/mbuild/lib/python3.6/site-packages/plyplus/plyplus.py:758: DeprecationWarning: invalid escape sequence '\\d'\n",
      "  return codecs.getdecoder('unicode_escape')(token_value)[0]\n",
      "/home/mike/miniconda3/envs/mbuild/lib/python3.6/site-packages/plyplus/plyplus.py:758: DeprecationWarning: invalid escape sequence '\\%'\n",
      "  return codecs.getdecoder('unicode_escape')(token_value)[0]\n",
      "/home/mike/miniconda3/envs/mbuild/lib/python3.6/site-packages/plyplus/plyplus.py:758: DeprecationWarning: invalid escape sequence '\\!'\n",
      "  return codecs.getdecoder('unicode_escape')(token_value)[0]\n"
     ]
    },
    {
     "ename": "AttributeError",
     "evalue": "'Atom' object has no attribute 'whitelist'",
     "output_type": "error",
     "traceback": [
      "\u001b[0;31m---------------------------------------------------------------------------\u001b[0m",
      "\u001b[0;31mAttributeError\u001b[0m                            Traceback (most recent call last)",
      "\u001b[0;32m<ipython-input-3-0419d7147200>\u001b[0m in \u001b[0;36m<module>\u001b[0;34m()\u001b[0m\n\u001b[1;32m      2\u001b[0m itic_mb.save(\"itic_with_ff.hoomdxml\", \n\u001b[1;32m      3\u001b[0m           \u001b[0moverwrite\u001b[0m\u001b[0;34m=\u001b[0m\u001b[0;32mTrue\u001b[0m\u001b[0;34m,\u001b[0m\u001b[0;34m\u001b[0m\u001b[0m\n\u001b[0;32m----> 4\u001b[0;31m           \u001b[0mforcefield_files\u001b[0m\u001b[0;34m=\u001b[0m\u001b[0;34m\"force_fields/gaff/opv_gaff.xml\"\u001b[0m\u001b[0;34m\u001b[0m\u001b[0m\n\u001b[0m\u001b[1;32m      5\u001b[0m          )\n",
      "\u001b[0;32m~/Projects/mbuild/mbuild/compound.py\u001b[0m in \u001b[0;36msave\u001b[0;34m(self, filename, show_ports, forcefield_name, forcefield_files, forcefield_debug, box, overwrite, residues, references_file, combining_rule, **kwargs)\u001b[0m\n\u001b[1;32m   1731\u001b[0m             ff = Forcefield(forcefield_files=forcefield_files,\n\u001b[1;32m   1732\u001b[0m                             name=forcefield_name, debug=forcefield_debug)\n\u001b[0;32m-> 1733\u001b[0;31m             \u001b[0mstructure\u001b[0m \u001b[0;34m=\u001b[0m \u001b[0mff\u001b[0m\u001b[0;34m.\u001b[0m\u001b[0mapply\u001b[0m\u001b[0;34m(\u001b[0m\u001b[0mstructure\u001b[0m\u001b[0;34m,\u001b[0m \u001b[0mreferences_file\u001b[0m\u001b[0;34m=\u001b[0m\u001b[0mreferences_file\u001b[0m\u001b[0;34m)\u001b[0m\u001b[0;34m\u001b[0m\u001b[0m\n\u001b[0m\u001b[1;32m   1734\u001b[0m             \u001b[0mstructure\u001b[0m\u001b[0;34m.\u001b[0m\u001b[0mcombining_rule\u001b[0m \u001b[0;34m=\u001b[0m \u001b[0mcombining_rule\u001b[0m\u001b[0;34m\u001b[0m\u001b[0m\n\u001b[1;32m   1735\u001b[0m \u001b[0;34m\u001b[0m\u001b[0m\n",
      "\u001b[0;32m~/Projects/foyer/foyer/forcefield.py\u001b[0m in \u001b[0;36mapply\u001b[0;34m(self, topology, references_file, use_residue_map, assert_angle_params, assert_dihedral_params, assert_improper_params, *args, **kwargs)\u001b[0m\n\u001b[1;32m    379\u001b[0m             \u001b[0mpositions\u001b[0m\u001b[0;34m[\u001b[0m\u001b[0;34m:\u001b[0m\u001b[0;34m]\u001b[0m \u001b[0;34m=\u001b[0m \u001b[0mnp\u001b[0m\u001b[0;34m.\u001b[0m\u001b[0mnan\u001b[0m\u001b[0;34m\u001b[0m\u001b[0m\n\u001b[1;32m    380\u001b[0m         \u001b[0mbox_vectors\u001b[0m \u001b[0;34m=\u001b[0m \u001b[0mtopology\u001b[0m\u001b[0;34m.\u001b[0m\u001b[0mgetPeriodicBoxVectors\u001b[0m\u001b[0;34m(\u001b[0m\u001b[0;34m)\u001b[0m\u001b[0;34m\u001b[0m\u001b[0m\n\u001b[0;32m--> 381\u001b[0;31m         \u001b[0mtopology\u001b[0m \u001b[0;34m=\u001b[0m \u001b[0mself\u001b[0m\u001b[0;34m.\u001b[0m\u001b[0mrun_atomtyping\u001b[0m\u001b[0;34m(\u001b[0m\u001b[0mtopology\u001b[0m\u001b[0;34m,\u001b[0m \u001b[0muse_residue_map\u001b[0m\u001b[0;34m=\u001b[0m\u001b[0muse_residue_map\u001b[0m\u001b[0;34m)\u001b[0m\u001b[0;34m\u001b[0m\u001b[0m\n\u001b[0m\u001b[1;32m    382\u001b[0m         \u001b[0msystem\u001b[0m \u001b[0;34m=\u001b[0m \u001b[0mself\u001b[0m\u001b[0;34m.\u001b[0m\u001b[0mcreateSystem\u001b[0m\u001b[0;34m(\u001b[0m\u001b[0mtopology\u001b[0m\u001b[0;34m,\u001b[0m \u001b[0;34m*\u001b[0m\u001b[0margs\u001b[0m\u001b[0;34m,\u001b[0m \u001b[0;34m**\u001b[0m\u001b[0mkwargs\u001b[0m\u001b[0;34m)\u001b[0m\u001b[0;34m\u001b[0m\u001b[0m\n\u001b[1;32m    383\u001b[0m \u001b[0;34m\u001b[0m\u001b[0m\n",
      "\u001b[0;32m~/Projects/foyer/foyer/forcefield.py\u001b[0m in \u001b[0;36mrun_atomtyping\u001b[0;34m(self, topology, use_residue_map)\u001b[0m\n\u001b[1;32m    457\u001b[0m                     \u001b[0;32mif\u001b[0m \u001b[0mres\u001b[0m\u001b[0;34m.\u001b[0m\u001b[0mname\u001b[0m \u001b[0;32mnot\u001b[0m \u001b[0;32min\u001b[0m \u001b[0mresidue_map\u001b[0m\u001b[0;34m.\u001b[0m\u001b[0mkeys\u001b[0m\u001b[0;34m(\u001b[0m\u001b[0;34m)\u001b[0m\u001b[0;34m:\u001b[0m\u001b[0;34m\u001b[0m\u001b[0m\n\u001b[1;32m    458\u001b[0m                         \u001b[0mresidue\u001b[0m \u001b[0;34m=\u001b[0m \u001b[0m_topology_from_residue\u001b[0m\u001b[0;34m(\u001b[0m\u001b[0mres\u001b[0m\u001b[0;34m)\u001b[0m\u001b[0;34m\u001b[0m\u001b[0m\n\u001b[0;32m--> 459\u001b[0;31m                         \u001b[0mfind_atomtypes\u001b[0m\u001b[0;34m(\u001b[0m\u001b[0mresidue\u001b[0m\u001b[0;34m,\u001b[0m \u001b[0mforcefield\u001b[0m\u001b[0;34m=\u001b[0m\u001b[0mself\u001b[0m\u001b[0;34m)\u001b[0m\u001b[0;34m\u001b[0m\u001b[0m\n\u001b[0m\u001b[1;32m    460\u001b[0m                         \u001b[0mresidue_map\u001b[0m\u001b[0;34m[\u001b[0m\u001b[0mres\u001b[0m\u001b[0;34m.\u001b[0m\u001b[0mname\u001b[0m\u001b[0;34m]\u001b[0m \u001b[0;34m=\u001b[0m \u001b[0mresidue\u001b[0m\u001b[0;34m\u001b[0m\u001b[0m\n\u001b[1;32m    461\u001b[0m \u001b[0;34m\u001b[0m\u001b[0m\n",
      "\u001b[0;32m~/Projects/foyer/foyer/atomtyper.py\u001b[0m in \u001b[0;36mfind_atomtypes\u001b[0;34m(topology, forcefield, max_iter)\u001b[0m\n\u001b[1;32m     41\u001b[0m \u001b[0;34m\u001b[0m\u001b[0m\n\u001b[1;32m     42\u001b[0m     \u001b[0m_iterate_rules\u001b[0m\u001b[0;34m(\u001b[0m\u001b[0mrules\u001b[0m\u001b[0;34m,\u001b[0m \u001b[0mtopology\u001b[0m\u001b[0;34m,\u001b[0m \u001b[0mmax_iter\u001b[0m\u001b[0;34m=\u001b[0m\u001b[0mmax_iter\u001b[0m\u001b[0;34m)\u001b[0m\u001b[0;34m\u001b[0m\u001b[0m\n\u001b[0;32m---> 43\u001b[0;31m     \u001b[0m_resolve_atomtypes\u001b[0m\u001b[0;34m(\u001b[0m\u001b[0mtopology\u001b[0m\u001b[0;34m)\u001b[0m\u001b[0;34m\u001b[0m\u001b[0m\n\u001b[0m\u001b[1;32m     44\u001b[0m \u001b[0;34m\u001b[0m\u001b[0m\n\u001b[1;32m     45\u001b[0m \u001b[0;34m\u001b[0m\u001b[0m\n",
      "\u001b[0;32m~/Projects/foyer/foyer/atomtyper.py\u001b[0m in \u001b[0;36m_resolve_atomtypes\u001b[0;34m(topology)\u001b[0m\n\u001b[1;32m     95\u001b[0m     \u001b[0;32mfor\u001b[0m \u001b[0matom\u001b[0m \u001b[0;32min\u001b[0m \u001b[0mtopology\u001b[0m\u001b[0;34m.\u001b[0m\u001b[0matoms\u001b[0m\u001b[0;34m(\u001b[0m\u001b[0;34m)\u001b[0m\u001b[0;34m:\u001b[0m\u001b[0;34m\u001b[0m\u001b[0m\n\u001b[1;32m     96\u001b[0m         \u001b[0matomtype\u001b[0m \u001b[0;34m=\u001b[0m \u001b[0;34m[\u001b[0m\u001b[0mrule_name\u001b[0m \u001b[0;32mfor\u001b[0m \u001b[0mrule_name\u001b[0m \u001b[0;32min\u001b[0m \u001b[0matom\u001b[0m\u001b[0;34m.\u001b[0m\u001b[0mwhitelist\u001b[0m \u001b[0;34m-\u001b[0m \u001b[0matom\u001b[0m\u001b[0;34m.\u001b[0m\u001b[0mblacklist\u001b[0m\u001b[0;34m]\u001b[0m\u001b[0;34m\u001b[0m\u001b[0m\n\u001b[0;32m---> 97\u001b[0;31m         \u001b[0;32mif\u001b[0m \u001b[0mlen\u001b[0m\u001b[0;34m(\u001b[0m\u001b[0matomtype\u001b[0m\u001b[0;34m)\u001b[0m \u001b[0;34m==\u001b[0m \u001b[0;36m1\u001b[0m\u001b[0;34m:\u001b[0m\u001b[0;34m\u001b[0m\u001b[0m\n\u001b[0m\u001b[1;32m     98\u001b[0m             \u001b[0matom\u001b[0m\u001b[0;34m.\u001b[0m\u001b[0mid\u001b[0m \u001b[0;34m=\u001b[0m \u001b[0matomtype\u001b[0m\u001b[0;34m[\u001b[0m\u001b[0;36m0\u001b[0m\u001b[0;34m]\u001b[0m\u001b[0;34m\u001b[0m\u001b[0m\n\u001b[1;32m     99\u001b[0m         \u001b[0;32melif\u001b[0m \u001b[0mlen\u001b[0m\u001b[0;34m(\u001b[0m\u001b[0matomtype\u001b[0m\u001b[0;34m)\u001b[0m \u001b[0;34m>\u001b[0m \u001b[0;36m1\u001b[0m\u001b[0;34m:\u001b[0m\u001b[0;34m\u001b[0m\u001b[0m\n",
      "\u001b[0;31mAttributeError\u001b[0m: 'Atom' object has no attribute 'whitelist'"
     ]
    }
   ],
   "source": [
    "itic_mb = mb.load(\"itic.hoomdxml\")\n",
    "itic_mb.save(\"itic_with_ff.hoomdxml\", \n",
    "          overwrite=True,\n",
    "          forcefield_files=\"force_fields/gaff/opv_gaff.xml\"\n",
    "         )"
   ]
  },
  {
   "cell_type": "code",
   "execution_count": 55,
   "metadata": {},
   "outputs": [
    {
     "name": "stdout",
     "output_type": "stream",
     "text": [
      "hoomd\n",
      "k 2.0 d -1.0 n 2.0\n"
     ]
    },
    {
     "data": {
      "text/plain": [
       "<matplotlib.legend.Legend at 0x7f73cd8eeba8>"
      ]
     },
     "execution_count": 55,
     "metadata": {},
     "output_type": "execute_result"
    },
    {
     "name": "stderr",
     "output_type": "stream",
     "text": [
      "/home/mike/miniconda3/envs/mbuild/lib/python3.6/site-packages/matplotlib/font_manager.py:1331: UserWarning: findfont: Font family ['sans-serif'] not found. Falling back to DejaVu Sans\n",
      "  (prop.get_family(), self.defaultFamily[fontext]))\n",
      "/home/mike/miniconda3/envs/mbuild/lib/python3.6/site-packages/matplotlib/figure.py:2299: UserWarning: This figure includes Axes that are not compatible with tight_layout, so results might be incorrect.\n",
      "  warnings.warn(\"This figure includes Axes that are not compatible \"\n"
     ]
    },
    {
     "data": {
      "image/png": "[encoded data removed]",
      "text/plain": [
       "<Figure size 432x288 with 1 Axes>"
      ]
     },
     "metadata": {},
     "output_type": "display_data"
    }
   ],
   "source": [
    "x = np.linspace(0, 180)\n",
    "\n",
    "# 4    4.000       180.000           2.000\n",
    "\n",
    "def hoomd_harmonic_dihedral(phi, k, d, n):\n",
    "    return (1/2)*k*(1+d*np.cos(n*np.deg2rad(phi)))\n",
    "\n",
    "def PeriodicTorsionForce(theta, k, n, theta0):\n",
    "    return k*(1+np.cos(n*theta-theta0))\n",
    "\n",
    "def amber_dihedral(phi, V, n, gamma):\n",
    "    return V*(1+np.cos(n*np.deg2rad(phi)-np.deg2rad(gamma)))\n",
    "\n",
    "def opls_dihedral(phi, k1, k2, k3, k4):\n",
    "    theta = np.deg2rad(phi)\n",
    "    total = 0\n",
    "    for i,k in enumerate([k1, k2, k3, k4], start=1):\n",
    "        total += (1/2)*k*(1+(((-1)**(i+1))*np.cos(i*theta)))\n",
    "    return total\n",
    "\n",
    "divider = 4\n",
    "barrier_term = 4\n",
    "phase = 180\n",
    "periodicity = 2\n",
    "opls_dihedral(1,2,3,4,5)\n",
    "\n",
    "p0 = [1, 1, 2]\n",
    "\n",
    "y = amber_dihedral(x, barrier_term/divider, periodicity, phase)\n",
    "popt, pcov = curve_fit(hoomd_harmonic_dihedral, x, y, p0=p0)\n",
    "\n",
    "print(\"hoomd\")\n",
    "print(\"k {} d {} n {}\".format(*popt))\n",
    "#divider = 9\n",
    "#barrier_term = 1.4\n",
    "#phase = 0\n",
    "#periodicity = 3\n",
    "#print(amber_dihedral(0, barrier_term/divider, periodicity, phase))\n",
    "\n",
    "#plt.plot(x, hoomd_harmonic_dihedral(x, 1, 1, 1), label=\"hoomd\")\n",
    "#plt.plot(x, PeriodicTorsionForce(x, 1/2, 1, np.pi))\n",
    "plt.plot(x, hoomd_harmonic_dihedral(x, *popt), label=\"hoomd fit\")\n",
    "plt.plot(x, y, label=\"amber\")\n",
    "plt.legend()"
   ]
  },
  {
   "cell_type": "code",
   "execution_count": 61,
   "metadata": {},
   "outputs": [
    {
     "name": "stdout",
     "output_type": "stream",
     "text": [
      "opls\n",
      "k1 -0.2754677734403915 k2 0.720374218675095 k3 0.5845322217109078 k4 0.22037422370158685\n"
     ]
    },
    {
     "name": "stderr",
     "output_type": "stream",
     "text": [
      "/home/mike/miniconda3/envs/mbuild/lib/python3.6/site-packages/matplotlib/font_manager.py:1331: UserWarning: findfont: Font family ['sans-serif'] not found. Falling back to DejaVu Sans\n",
      "  (prop.get_family(), self.defaultFamily[fontext]))\n",
      "/home/mike/miniconda3/envs/mbuild/lib/python3.6/site-packages/matplotlib/figure.py:2299: UserWarning: This figure includes Axes that are not compatible with tight_layout, so results might be incorrect.\n",
      "  warnings.warn(\"This figure includes Axes that are not compatible \"\n"
     ]
    },
    {
     "data": {
      "image/png": "[encoded data removed]",
      "text/plain": [
       "<Figure size 432x288 with 1 Axes>"
      ]
     },
     "metadata": {},
     "output_type": "display_data"
    }
   ],
   "source": [
    "#c3-c3-c3-c3   1    0.180         0.000          -3.000\n",
    "#c3-c3-c3-c3   1    0.250       180.000          -2.000\n",
    "#c3-c3-c3-c3   1    0.200       180.000           1.000\n",
    "\n",
    "x = np.linspace(0, 180)\n",
    "\n",
    "\n",
    "divider = 1\n",
    "barrier_term = 0.180\n",
    "phase = 0\n",
    "periodicity = 3\n",
    "\n",
    "\n",
    "p0 = [0, 0, 0, 0]\n",
    "\n",
    "y3 = amber_dihedral(x, 0.18/divider, 3, 0)\n",
    "y2 = amber_dihedral(x, 0.25/divider, 2, 180)\n",
    "y1 = amber_dihedral(x, 0.25/divider, 1, 180)\n",
    "\n",
    "popt, pcov = curve_fit(opls_dihedral, x, y3 + y2 + y1, p0=p0)\n",
    "#plt.plot(x, hoomd_harmonic_dihedral(x, *popt), label=\"hoomd fit\")\n",
    "plt.plot(x, y3, label=\"amber3\")\n",
    "plt.plot(x, y2, label=\"amber2\")\n",
    "plt.plot(x, y1, label=\"amber1\")\n",
    "plt.plot(x, y3 + y2 + y1, label=\"amber sum\")\n",
    "plt.plot(x, opls_dihedral(x, *popt), label=\"opls\")\n",
    "plt.legend()\n",
    "print(\"opls\")\n",
    "print(\"k1 {} k2 {} k3 {} k4 {}\".format(*popt))"
   ]
  },
  {
   "cell_type": "code",
   "execution_count": 42,
   "metadata": {},
   "outputs": [
    {
     "name": "stderr",
     "output_type": "stream",
     "text": [
      "/home/mike/miniconda3/envs/mbuild/lib/python3.6/site-packages/pandas/io/parsers.py:2227: FutureWarning: split() requires a non-empty pattern match.\n",
      "  yield pat.split(line.strip())\n",
      "/home/mike/miniconda3/envs/mbuild/lib/python3.6/site-packages/pandas/io/parsers.py:2229: FutureWarning: split() requires a non-empty pattern match.\n",
      "  yield pat.split(line.strip())\n",
      "/home/mike/Projects/foyer/foyer/forcefield.py:296: UserWarning: Non-atomistic element type detected. Creating custom element for _C2\n",
      "  'Creating custom element for {}'.format(element))\n",
      "/home/mike/Projects/foyer/foyer/forcefield.py:296: UserWarning: Non-atomistic element type detected. Creating custom element for _CH\n",
      "  'Creating custom element for {}'.format(element))\n",
      "/home/mike/Projects/foyer/foyer/forcefield.py:296: UserWarning: Non-atomistic element type detected. Creating custom element for _C3\n",
      "  'Creating custom element for {}'.format(element))\n",
      "/home/mike/Projects/foyer/foyer/forcefield.py:296: UserWarning: Non-atomistic element type detected. Creating custom element for _O2\n",
      "  'Creating custom element for {}'.format(element))\n",
      "/home/mike/Projects/foyer/foyer/forcefield.py:296: UserWarning: Non-atomistic element type detected. Creating custom element for _N3\n",
      "  'Creating custom element for {}'.format(element))\n",
      "/home/mike/Projects/foyer/foyer/forcefield.py:296: UserWarning: Non-atomistic element type detected. Creating custom element for _H3\n",
      "  'Creating custom element for {}'.format(element))\n",
      "/home/mike/Projects/foyer/foyer/forcefield.py:296: UserWarning: Non-atomistic element type detected. Creating custom element for _OH\n",
      "  'Creating custom element for {}'.format(element))\n",
      "/home/mike/Projects/foyer/foyer/forcefield.py:296: UserWarning: Non-atomistic element type detected. Creating custom element for _SH\n",
      "  'Creating custom element for {}'.format(element))\n",
      "/home/mike/Projects/foyer/foyer/forcefield.py:296: UserWarning: Non-atomistic element type detected. Creating custom element for _CP\n",
      "  'Creating custom element for {}'.format(element))\n",
      "/home/mike/Projects/foyer/foyer/forcefield.py:296: UserWarning: Non-atomistic element type detected. Creating custom element for _CC\n",
      "  'Creating custom element for {}'.format(element))\n",
      "/home/mike/Projects/foyer/foyer/forcefield.py:296: UserWarning: Non-atomistic element type detected. Creating custom element for _CG\n",
      "  'Creating custom element for {}'.format(element))\n",
      "/home/mike/Projects/foyer/foyer/forcefield.py:296: UserWarning: Non-atomistic element type detected. Creating custom element for _CB\n",
      "  'Creating custom element for {}'.format(element))\n",
      "/home/mike/Projects/foyer/foyer/forcefield.py:296: UserWarning: Non-atomistic element type detected. Creating custom element for _N2\n",
      "  'Creating custom element for {}'.format(element))\n",
      "/home/mike/Projects/foyer/foyer/forcefield.py:296: UserWarning: Non-atomistic element type detected. Creating custom element for _CT\n",
      "  'Creating custom element for {}'.format(element))\n",
      "/home/mike/Projects/foyer/foyer/forcefield.py:296: UserWarning: Non-atomistic element type detected. Creating custom element for _C4\n",
      "  'Creating custom element for {}'.format(element))\n",
      "/home/mike/Projects/foyer/foyer/forcefield.py:296: UserWarning: Non-atomistic element type detected. Creating custom element for _C9\n",
      "  'Creating custom element for {}'.format(element))\n",
      "/home/mike/Projects/foyer/foyer/forcefield.py:296: UserWarning: Non-atomistic element type detected. Creating custom element for _C8\n",
      "  'Creating custom element for {}'.format(element))\n",
      "/home/mike/Projects/foyer/foyer/forcefield.py:296: UserWarning: Non-atomistic element type detected. Creating custom element for _C7\n",
      "  'Creating custom element for {}'.format(element))\n",
      "/home/mike/Projects/foyer/foyer/forcefield.py:296: UserWarning: Non-atomistic element type detected. Creating custom element for _OW\n",
      "  'Creating custom element for {}'.format(element))\n",
      "/home/mike/Projects/foyer/foyer/forcefield.py:296: UserWarning: Non-atomistic element type detected. Creating custom element for _HW\n",
      "  'Creating custom element for {}'.format(element))\n",
      "/home/mike/Projects/foyer/foyer/forcefield.py:296: UserWarning: Non-atomistic element type detected. Creating custom element for _NT\n",
      "  'Creating custom element for {}'.format(element))\n",
      "/home/mike/Projects/foyer/foyer/forcefield.py:296: UserWarning: Non-atomistic element type detected. Creating custom element for _H2\n",
      "  'Creating custom element for {}'.format(element))\n",
      "/home/mike/Projects/foyer/foyer/forcefield.py:296: UserWarning: Non-atomistic element type detected. Creating custom element for _C*\n",
      "  'Creating custom element for {}'.format(element))\n",
      "/home/mike/Projects/foyer/foyer/forcefield.py:296: UserWarning: Non-atomistic element type detected. Creating custom element for _NC\n",
      "  'Creating custom element for {}'.format(element))\n",
      "/home/mike/Projects/foyer/foyer/forcefield.py:296: UserWarning: Non-atomistic element type detected. Creating custom element for _CI\n",
      "  'Creating custom element for {}'.format(element))\n",
      "/home/mike/Projects/foyer/foyer/forcefield.py:296: UserWarning: Non-atomistic element type detected. Creating custom element for _CJ\n",
      "  'Creating custom element for {}'.format(element))\n",
      "/home/mike/Projects/foyer/foyer/forcefield.py:296: UserWarning: Non-atomistic element type detected. Creating custom element for _HC\n",
      "  'Creating custom element for {}'.format(element))\n",
      "/home/mike/Projects/foyer/foyer/forcefield.py:296: UserWarning: Non-atomistic element type detected. Creating custom element for _CQ\n",
      "  'Creating custom element for {}'.format(element))\n",
      "/home/mike/Projects/foyer/foyer/forcefield.py:296: UserWarning: Non-atomistic element type detected. Creating custom element for _CK\n",
      "  'Creating custom element for {}'.format(element))\n",
      "/home/mike/Projects/foyer/foyer/forcefield.py:296: UserWarning: Non-atomistic element type detected. Creating custom element for _C1\n",
      "  'Creating custom element for {}'.format(element))\n",
      "/home/mike/Projects/foyer/foyer/forcefield.py:296: UserWarning: Non-atomistic element type detected. Creating custom element for _F-\n",
      "  'Creating custom element for {}'.format(element))\n",
      "/home/mike/Projects/foyer/foyer/forcefield.py:296: UserWarning: Non-atomistic element type detected. Creating custom element for _I-\n",
      "  'Creating custom element for {}'.format(element))\n",
      "/home/mike/Projects/foyer/foyer/forcefield.py:296: UserWarning: Non-atomistic element type detected. Creating custom element for _K+\n",
      "  'Creating custom element for {}'.format(element))\n",
      "/home/mike/Projects/foyer/foyer/forcefield.py:296: UserWarning: Non-atomistic element type detected. Creating custom element for _S-\n",
      "  'Creating custom element for {}'.format(element))\n",
      "/home/mike/Projects/foyer/foyer/forcefield.py:296: UserWarning: Non-atomistic element type detected. Creating custom element for _O-\n",
      "  'Creating custom element for {}'.format(element))\n",
      "/home/mike/Projects/foyer/foyer/forcefield.py:296: UserWarning: Non-atomistic element type detected. Creating custom element for _SA\n",
      "  'Creating custom element for {}'.format(element))\n",
      "/home/mike/Projects/foyer/foyer/forcefield.py:296: UserWarning: Non-atomistic element type detected. Creating custom element for _SB\n",
      "  'Creating custom element for {}'.format(element))\n",
      "/home/mike/miniconda3/envs/mbuild/lib/python3.6/site-packages/plyplus/plyplus.py:758: DeprecationWarning: invalid escape sequence '\\#'\n",
      "  return codecs.getdecoder('unicode_escape')(token_value)[0]\n",
      "/home/mike/miniconda3/envs/mbuild/lib/python3.6/site-packages/plyplus/plyplus.py:758: DeprecationWarning: invalid escape sequence '\\['\n",
      "  return codecs.getdecoder('unicode_escape')(token_value)[0]\n",
      "/home/mike/miniconda3/envs/mbuild/lib/python3.6/site-packages/plyplus/plyplus.py:758: DeprecationWarning: invalid escape sequence '\\]'\n",
      "  return codecs.getdecoder('unicode_escape')(token_value)[0]\n",
      "/home/mike/miniconda3/envs/mbuild/lib/python3.6/site-packages/plyplus/plyplus.py:758: DeprecationWarning: invalid escape sequence '\\('\n",
      "  return codecs.getdecoder('unicode_escape')(token_value)[0]\n",
      "/home/mike/miniconda3/envs/mbuild/lib/python3.6/site-packages/plyplus/plyplus.py:758: DeprecationWarning: invalid escape sequence '\\)'\n",
      "  return codecs.getdecoder('unicode_escape')(token_value)[0]\n",
      "/home/mike/miniconda3/envs/mbuild/lib/python3.6/site-packages/plyplus/plyplus.py:758: DeprecationWarning: invalid escape sequence '\\,'\n",
      "  return codecs.getdecoder('unicode_escape')(token_value)[0]\n",
      "/home/mike/miniconda3/envs/mbuild/lib/python3.6/site-packages/plyplus/plyplus.py:758: DeprecationWarning: invalid escape sequence '\\;'\n",
      "  return codecs.getdecoder('unicode_escape')(token_value)[0]\n",
      "/home/mike/miniconda3/envs/mbuild/lib/python3.6/site-packages/plyplus/plyplus.py:758: DeprecationWarning: invalid escape sequence '\\&'\n",
      "  return codecs.getdecoder('unicode_escape')(token_value)[0]\n",
      "/home/mike/miniconda3/envs/mbuild/lib/python3.6/site-packages/plyplus/plyplus.py:758: DeprecationWarning: invalid escape sequence '\\*'\n",
      "  return codecs.getdecoder('unicode_escape')(token_value)[0]\n",
      "/home/mike/miniconda3/envs/mbuild/lib/python3.6/site-packages/plyplus/plyplus.py:758: DeprecationWarning: invalid escape sequence '\\$'\n",
      "  return codecs.getdecoder('unicode_escape')(token_value)[0]\n",
      "/home/mike/miniconda3/envs/mbuild/lib/python3.6/site-packages/plyplus/plyplus.py:758: DeprecationWarning: invalid escape sequence '\\d'\n",
      "  return codecs.getdecoder('unicode_escape')(token_value)[0]\n",
      "/home/mike/miniconda3/envs/mbuild/lib/python3.6/site-packages/plyplus/plyplus.py:758: DeprecationWarning: invalid escape sequence '\\%'\n",
      "  return codecs.getdecoder('unicode_escape')(token_value)[0]\n",
      "/home/mike/miniconda3/envs/mbuild/lib/python3.6/site-packages/plyplus/plyplus.py:758: DeprecationWarning: invalid escape sequence '\\!'\n",
      "  return codecs.getdecoder('unicode_escape')(token_value)[0]\n",
      "/home/mike/Projects/foyer/foyer/validator.py:163: ValidationWarning: There are 371 atom types that are missing a smarts definition. To view the missing atom types, re-run with debug=True when applying the forcefield.\n",
      "  \"applying the forcefield.\".format(len(missing_smarts)), ValidationWarning)\n",
      "/home/mike/miniconda3/envs/mbuild/lib/python3.6/site-packages/plyplus/plyplus.py:758: DeprecationWarning: invalid escape sequence '\\#'\n",
      "  return codecs.getdecoder('unicode_escape')(token_value)[0]\n",
      "/home/mike/miniconda3/envs/mbuild/lib/python3.6/site-packages/plyplus/plyplus.py:758: DeprecationWarning: invalid escape sequence '\\['\n",
      "  return codecs.getdecoder('unicode_escape')(token_value)[0]\n",
      "/home/mike/miniconda3/envs/mbuild/lib/python3.6/site-packages/plyplus/plyplus.py:758: DeprecationWarning: invalid escape sequence '\\]'\n",
      "  return codecs.getdecoder('unicode_escape')(token_value)[0]\n",
      "/home/mike/miniconda3/envs/mbuild/lib/python3.6/site-packages/plyplus/plyplus.py:758: DeprecationWarning: invalid escape sequence '\\('\n",
      "  return codecs.getdecoder('unicode_escape')(token_value)[0]\n",
      "/home/mike/miniconda3/envs/mbuild/lib/python3.6/site-packages/plyplus/plyplus.py:758: DeprecationWarning: invalid escape sequence '\\)'\n",
      "  return codecs.getdecoder('unicode_escape')(token_value)[0]\n",
      "/home/mike/miniconda3/envs/mbuild/lib/python3.6/site-packages/plyplus/plyplus.py:758: DeprecationWarning: invalid escape sequence '\\,'\n",
      "  return codecs.getdecoder('unicode_escape')(token_value)[0]\n",
      "/home/mike/miniconda3/envs/mbuild/lib/python3.6/site-packages/plyplus/plyplus.py:758: DeprecationWarning: invalid escape sequence '\\;'\n",
      "  return codecs.getdecoder('unicode_escape')(token_value)[0]\n",
      "/home/mike/miniconda3/envs/mbuild/lib/python3.6/site-packages/plyplus/plyplus.py:758: DeprecationWarning: invalid escape sequence '\\&'\n",
      "  return codecs.getdecoder('unicode_escape')(token_value)[0]\n",
      "/home/mike/miniconda3/envs/mbuild/lib/python3.6/site-packages/plyplus/plyplus.py:758: DeprecationWarning: invalid escape sequence '\\*'\n",
      "  return codecs.getdecoder('unicode_escape')(token_value)[0]\n",
      "/home/mike/miniconda3/envs/mbuild/lib/python3.6/site-packages/plyplus/plyplus.py:758: DeprecationWarning: invalid escape sequence '\\$'\n",
      "  return codecs.getdecoder('unicode_escape')(token_value)[0]\n",
      "/home/mike/miniconda3/envs/mbuild/lib/python3.6/site-packages/plyplus/plyplus.py:758: DeprecationWarning: invalid escape sequence '\\d'\n",
      "  return codecs.getdecoder('unicode_escape')(token_value)[0]\n",
      "/home/mike/miniconda3/envs/mbuild/lib/python3.6/site-packages/plyplus/plyplus.py:758: DeprecationWarning: invalid escape sequence '\\%'\n",
      "  return codecs.getdecoder('unicode_escape')(token_value)[0]\n",
      "/home/mike/miniconda3/envs/mbuild/lib/python3.6/site-packages/plyplus/plyplus.py:758: DeprecationWarning: invalid escape sequence '\\!'\n",
      "  return codecs.getdecoder('unicode_escape')(token_value)[0]\n"
     ]
    },
    {
     "name": "stdout",
     "output_type": "stream",
     "text": [
      "Missing dihedral with ids (0, 1, 2, 3) and types ['opls_230', 'opls_230', 'opls_230', 'opls_230'].\n",
      "Missing dihedral with ids (0, 1, 2, 7) and types ['opls_230', 'opls_230', 'opls_230', 'opls_502'].\n",
      "Missing dihedral with ids (0, 1, 5, 6) and types ['opls_230', 'opls_230', 'opls_230', 'opls_230'].\n",
      "Missing dihedral with ids (0, 1, 5, 8) and types ['opls_230', 'opls_230', 'opls_230', 'opls_398'].\n",
      "Missing dihedral with ids (0, 4, 3, 2) and types ['opls_230', 'opls_502', 'opls_230', 'opls_230'].\n",
      "Missing dihedral with ids (0, 4, 3, 20) and types ['opls_230', 'opls_502', 'opls_230', 'opls_230'].\n",
      "Missing dihedral with ids (1, 0, 4, 3) and types ['opls_230', 'opls_230', 'opls_502', 'opls_230'].\n",
      "Missing dihedral with ids (1, 2, 3, 4) and types ['opls_230', 'opls_230', 'opls_230', 'opls_502'].\n",
      "Missing dihedral with ids (1, 2, 3, 20) and types ['opls_230', 'opls_230', 'opls_230', 'opls_230'].\n",
      "Missing dihedral with ids (1, 2, 7, 6) and types ['opls_230', 'opls_230', 'opls_502', 'opls_230'].\n",
      "Missing dihedral with ids (1, 5, 6, 7) and types ['opls_230', 'opls_230', 'opls_230', 'opls_502'].\n",
      "Missing dihedral with ids (1, 5, 6, 9) and types ['opls_230', 'opls_230', 'opls_230', 'opls_071'].\n",
      "Missing dihedral with ids (2, 1, 0, 4) and types ['opls_230', 'opls_230', 'opls_230', 'opls_502'].\n",
      "Missing dihedral with ids (2, 1, 5, 6) and types ['opls_230', 'opls_230', 'opls_230', 'opls_230'].\n",
      "Missing dihedral with ids (2, 1, 5, 8) and types ['opls_230', 'opls_230', 'opls_230', 'opls_398'].\n",
      "Missing dihedral with ids (2, 3, 20, 21) and types ['opls_230', 'opls_230', 'opls_230', 'opls_230'].\n",
      "Missing dihedral with ids (2, 3, 20, 30) and types ['opls_230', 'opls_230', 'opls_230', 'opls_502'].\n",
      "Missing dihedral with ids (2, 7, 6, 5) and types ['opls_230', 'opls_502', 'opls_230', 'opls_230'].\n",
      "Missing dihedral with ids (2, 7, 6, 9) and types ['opls_230', 'opls_502', 'opls_230', 'opls_071'].\n",
      "Missing dihedral with ids (3, 2, 1, 5) and types ['opls_230', 'opls_230', 'opls_230', 'opls_230'].\n",
      "Missing dihedral with ids (3, 2, 7, 6) and types ['opls_230', 'opls_230', 'opls_502', 'opls_230'].\n",
      "Missing dihedral with ids (3, 20, 21, 22) and types ['opls_230', 'opls_230', 'opls_230', 'opls_230'].\n",
      "Missing dihedral with ids (3, 20, 30, 23) and types ['opls_230', 'opls_230', 'opls_502', 'opls_230'].\n",
      "Missing dihedral with ids (4, 0, 1, 5) and types ['opls_502', 'opls_230', 'opls_230', 'opls_230'].\n",
      "Missing dihedral with ids (4, 3, 2, 7) and types ['opls_502', 'opls_230', 'opls_230', 'opls_502'].\n",
      "Missing dihedral with ids (4, 3, 20, 21) and types ['opls_502', 'opls_230', 'opls_230', 'opls_230'].\n",
      "Missing dihedral with ids (4, 3, 20, 30) and types ['opls_502', 'opls_230', 'opls_230', 'opls_502'].\n",
      "Missing dihedral with ids (5, 1, 2, 7) and types ['opls_230', 'opls_230', 'opls_230', 'opls_502'].\n",
      "Missing dihedral with ids (5, 6, 9, 10) and types ['opls_230', 'opls_230', 'opls_071', 'opls_002'].\n",
      "Missing dihedral with ids (5, 6, 9, 11) and types ['opls_230', 'opls_230', 'opls_071', 'opls_002'].\n",
      "Missing dihedral with ids (6, 9, 11, 12) and types ['opls_230', 'opls_071', 'opls_002', 'opls_071'].\n",
      "Missing dihedral with ids (7, 2, 3, 20) and types ['opls_502', 'opls_230', 'opls_230', 'opls_230'].\n",
      "Missing dihedral with ids (7, 6, 5, 8) and types ['opls_502', 'opls_230', 'opls_230', 'opls_398'].\n",
      "Missing dihedral with ids (7, 6, 9, 10) and types ['opls_502', 'opls_230', 'opls_071', 'opls_002'].\n",
      "Missing dihedral with ids (7, 6, 9, 11) and types ['opls_502', 'opls_230', 'opls_071', 'opls_002'].\n",
      "Missing dihedral with ids (8, 5, 6, 9) and types ['opls_398', 'opls_230', 'opls_230', 'opls_071'].\n",
      "Missing dihedral with ids (9, 11, 12, 13) and types ['opls_071', 'opls_002', 'opls_071', 'opls_071'].\n",
      "Missing dihedral with ids (10, 9, 11, 12) and types ['opls_002', 'opls_071', 'opls_002', 'opls_071'].\n",
      "Missing dihedral with ids (11, 12, 13, 14) and types ['opls_002', 'opls_071', 'opls_071', 'opls_071'].\n",
      "Missing dihedral with ids (11, 12, 13, 18) and types ['opls_002', 'opls_071', 'opls_071', 'opls_071'].\n",
      "Missing dihedral with ids (20, 21, 22, 23) and types ['opls_230', 'opls_230', 'opls_230', 'opls_230'].\n",
      "Missing dihedral with ids (20, 21, 22, 24) and types ['opls_230', 'opls_230', 'opls_230', 'opls_230'].\n",
      "Missing dihedral with ids (20, 30, 23, 22) and types ['opls_230', 'opls_502', 'opls_230', 'opls_230'].\n",
      "Missing dihedral with ids (20, 30, 23, 27) and types ['opls_230', 'opls_502', 'opls_230', 'opls_230'].\n",
      "Missing dihedral with ids (21, 20, 30, 23) and types ['opls_230', 'opls_230', 'opls_502', 'opls_230'].\n",
      "Missing dihedral with ids (21, 22, 23, 27) and types ['opls_230', 'opls_230', 'opls_230', 'opls_230'].\n",
      "Missing dihedral with ids (21, 22, 23, 30) and types ['opls_230', 'opls_230', 'opls_230', 'opls_502'].\n",
      "Missing dihedral with ids (21, 22, 24, 25) and types ['opls_230', 'opls_230', 'opls_230', 'opls_230'].\n",
      "Missing dihedral with ids (21, 22, 24, 32) and types ['opls_230', 'opls_230', 'opls_230', 'opls_002'].\n",
      "Missing dihedral with ids (22, 21, 20, 30) and types ['opls_230', 'opls_230', 'opls_230', 'opls_502'].\n",
      "Missing dihedral with ids (22, 23, 27, 26) and types ['opls_230', 'opls_230', 'opls_230', 'opls_230'].\n",
      "Missing dihedral with ids (22, 23, 27, 33) and types ['opls_230', 'opls_230', 'opls_230', 'opls_002'].\n",
      "Missing dihedral with ids (22, 24, 25, 26) and types ['opls_230', 'opls_230', 'opls_230', 'opls_230'].\n",
      "Missing dihedral with ids (22, 24, 25, 31) and types ['opls_230', 'opls_230', 'opls_230', 'opls_502'].\n",
      "Missing dihedral with ids (22, 24, 32, 34) and types ['opls_230', 'opls_230', 'opls_002', 'opls_071'].\n",
      "Missing dihedral with ids (23, 22, 24, 25) and types ['opls_230', 'opls_230', 'opls_230', 'opls_230'].\n",
      "Missing dihedral with ids (23, 22, 24, 32) and types ['opls_230', 'opls_230', 'opls_230', 'opls_002'].\n",
      "Missing dihedral with ids (23, 27, 26, 25) and types ['opls_230', 'opls_230', 'opls_230', 'opls_230'].\n",
      "Missing dihedral with ids (23, 27, 26, 28) and types ['opls_230', 'opls_230', 'opls_230', 'opls_230'].\n",
      "Missing dihedral with ids (23, 27, 33, 42) and types ['opls_230', 'opls_230', 'opls_002', 'opls_071'].\n",
      "Missing dihedral with ids (24, 22, 23, 27) and types ['opls_230', 'opls_230', 'opls_230', 'opls_230'].\n",
      "Missing dihedral with ids (24, 22, 23, 30) and types ['opls_230', 'opls_230', 'opls_230', 'opls_502'].\n",
      "Missing dihedral with ids (24, 25, 26, 27) and types ['opls_230', 'opls_230', 'opls_230', 'opls_230'].\n",
      "Missing dihedral with ids (24, 25, 26, 28) and types ['opls_230', 'opls_230', 'opls_230', 'opls_230'].\n",
      "Missing dihedral with ids (24, 25, 31, 29) and types ['opls_230', 'opls_230', 'opls_502', 'opls_230'].\n",
      "Missing dihedral with ids (24, 32, 34, 35) and types ['opls_230', 'opls_002', 'opls_071', 'opls_071'].\n",
      "Missing dihedral with ids (25, 24, 32, 34) and types ['opls_230', 'opls_230', 'opls_002', 'opls_071'].\n",
      "Missing dihedral with ids (25, 26, 27, 33) and types ['opls_230', 'opls_230', 'opls_230', 'opls_002'].\n",
      "Missing dihedral with ids (25, 26, 28, 29) and types ['opls_230', 'opls_230', 'opls_230', 'opls_230'].\n",
      "Missing dihedral with ids (25, 31, 29, 28) and types ['opls_230', 'opls_502', 'opls_230', 'opls_230'].\n",
      "Missing dihedral with ids (26, 25, 24, 32) and types ['opls_230', 'opls_230', 'opls_230', 'opls_002'].\n",
      "Missing dihedral with ids (26, 25, 31, 29) and types ['opls_230', 'opls_230', 'opls_502', 'opls_230'].\n",
      "Missing dihedral with ids (26, 27, 23, 30) and types ['opls_230', 'opls_230', 'opls_230', 'opls_502'].\n",
      "Missing dihedral with ids (26, 27, 33, 42) and types ['opls_230', 'opls_230', 'opls_002', 'opls_071'].\n",
      "Missing dihedral with ids (26, 28, 29, 31) and types ['opls_230', 'opls_230', 'opls_230', 'opls_502'].\n",
      "Missing dihedral with ids (27, 26, 25, 31) and types ['opls_230', 'opls_230', 'opls_230', 'opls_502'].\n",
      "Missing dihedral with ids (27, 26, 28, 29) and types ['opls_230', 'opls_230', 'opls_230', 'opls_230'].\n",
      "Missing dihedral with ids (27, 33, 42, 43) and types ['opls_230', 'opls_002', 'opls_071', 'opls_071'].\n",
      "Missing dihedral with ids (28, 26, 25, 31) and types ['opls_230', 'opls_230', 'opls_230', 'opls_502'].\n",
      "Missing dihedral with ids (28, 26, 27, 33) and types ['opls_230', 'opls_230', 'opls_230', 'opls_002'].\n",
      "Missing dihedral with ids (30, 23, 27, 33) and types ['opls_502', 'opls_230', 'opls_230', 'opls_002'].\n",
      "Missing dihedral with ids (31, 25, 24, 32) and types ['opls_502', 'opls_230', 'opls_230', 'opls_002'].\n",
      "Missing dihedral with ids (32, 34, 35, 36) and types ['opls_002', 'opls_071', 'opls_071', 'opls_071'].\n",
      "Missing dihedral with ids (32, 34, 35, 38) and types ['opls_002', 'opls_071', 'opls_071', 'opls_071'].\n",
      "Missing dihedral with ids (33, 42, 43, 44) and types ['opls_002', 'opls_071', 'opls_071', 'opls_071'].\n",
      "Missing dihedral with ids (33, 42, 43, 46) and types ['opls_002', 'opls_071', 'opls_071', 'opls_071'].\n",
      "{\"['opls_230', 'opls_230', 'opls_230', 'opls_398']\", \"['opls_230', 'opls_502', 'opls_230', 'opls_071']\", \"['opls_002', 'opls_071', 'opls_002', 'opls_071']\", \"['opls_230', 'opls_230', 'opls_071', 'opls_002']\", \"['opls_398', 'opls_230', 'opls_230', 'opls_071']\", \"['opls_230', 'opls_230', 'opls_230', 'opls_230']\", \"['opls_071', 'opls_002', 'opls_071', 'opls_071']\", \"['opls_230', 'opls_071', 'opls_002', 'opls_071']\", \"['opls_230', 'opls_230', 'opls_230', 'opls_071']\", \"['opls_230', 'opls_230', 'opls_002', 'opls_071']\", \"['opls_002', 'opls_071', 'opls_071', 'opls_071']\", \"['opls_230', 'opls_230', 'opls_230', 'opls_502']\", \"['opls_502', 'opls_230', 'opls_230', 'opls_230']\", \"['opls_230', 'opls_002', 'opls_071', 'opls_071']\", \"['opls_502', 'opls_230', 'opls_230', 'opls_002']\", \"['opls_230', 'opls_230', 'opls_502', 'opls_230']\", \"['opls_230', 'opls_230', 'opls_230', 'opls_002']\", \"['opls_502', 'opls_230', 'opls_071', 'opls_002']\", \"['opls_502', 'opls_230', 'opls_230', 'opls_398']\", \"['opls_502', 'opls_230', 'opls_230', 'opls_502']\", \"['opls_230', 'opls_502', 'opls_230', 'opls_230']\"}\n"
     ]
    },
    {
     "name": "stderr",
     "output_type": "stream",
     "text": [
      "/home/mike/Projects/foyer/foyer/forcefield.py:226: UserWarning: Parameters have not been assigned to all angles. Total system angles: 74, Parameterized angles: 21\n",
      "  warnings.warn(msg)\n",
      "/home/mike/Projects/foyer/foyer/forcefield.py:226: UserWarning: Parameters have not been assigned to all proper dihedrals. Total system dihedrals: 104, Parameterized dihedrals: 18. Note that if your system contains torsions of Ryckaert-Bellemans functional form, all of these torsions are processed as propers.\n",
      "  warnings.warn(msg)\n",
      "/home/mike/Projects/foyer/foyer/forcefield.py:226: UserWarning: Parameters have not been assigned to all impropers. Total system impropers: 16, Parameterized impropers: 0. Note that if your system contains torsions of Ryckaert-Bellemans functional form, all of these torsions are processed as propers\n",
      "  warnings.warn(msg)\n",
      "/home/mike/Projects/mbuild/mbuild/compound.py:1739: UserWarning: System is not charge neutral. Total charge is -3.874800000000002.\n",
      "  ''.format(total_charge))\n"
     ]
    }
   ],
   "source": [
    "# Let's try the franken FF\n",
    "itic_mb = mb.load(\"compounds/ptb7_typed.mol2\")\n",
    "for atom in itic_mb:\n",
    "    if atom.name.startswith(\"H\"):\n",
    "        itic_mb.remove(atom)\n",
    "for atom in itic_mb:\n",
    "    if atom.name.startswith(\"H\"):\n",
    "        itic_mb.remove(atom)\n",
    "for atom in itic_mb:\n",
    "    if atom.name.startswith(\"H\"):\n",
    "        itic_mb.remove(atom)\n",
    "for atom in itic_mb:\n",
    "    if atom.name.startswith(\"H\"):\n",
    "        itic_mb.remove(atom)\n",
    "itic_mb.visualize()    \n",
    "itic_mb.save(\"ptb7_with_ff_opls.hoomdxml\", \n",
    "          overwrite=True,\n",
    "          forcefield_files=\"force_fields/oplsua/opls-custom.xml\",\n",
    "          ref_distance=3.9050,\n",
    "          ref_mass=32.06,\n",
    "          ref_energy=0.3550)"
   ]
  },
  {
   "cell_type": "code",
   "execution_count": null,
   "metadata": {},
   "outputs": [],
   "source": []
  },
  {
   "cell_type": "code",
   "execution_count": 32,
   "metadata": {},
   "outputs": [
    {
     "name": "stderr",
     "output_type": "stream",
     "text": [
      "/home/mike/miniconda3/envs/mbuild/lib/python3.6/site-packages/matplotlib/font_manager.py:1331: UserWarning: findfont: Font family ['sans-serif'] not found. Falling back to DejaVu Sans\n",
      "  (prop.get_family(), self.defaultFamily[fontext]))\n",
      "/home/mike/miniconda3/envs/mbuild/lib/python3.6/site-packages/matplotlib/figure.py:2299: UserWarning: This figure includes Axes that are not compatible with tight_layout, so results might be incorrect.\n",
      "  warnings.warn(\"This figure includes Axes that are not compatible \"\n"
     ]
    },
    {
     "data": {
      "image/png": "[encoded data removed]",
      "text/plain": [
       "<Figure size 864x864 with 1 Axes>"
      ]
     },
     "metadata": {},
     "output_type": "display_data"
    }
   ],
   "source": [
    "width = 12\n",
    "height = 12\n",
    "plt.figure(figsize=(width, height))\n",
    "SLICE = 40\n",
    "\n",
    "data = np.genfromtxt(\"ptb7_pcbm_sf.csv\", delimiter=\",\", skip_header=1)\n",
    "x, y, = data[:,0][:SLICE], data[:,1][:SLICE]\n",
    "plt.plot(x,y, label=\"PC70BM\")\n",
    "data = np.genfromtxt(\"ptb7_itic_sf.csv\", delimiter=\",\", skip_header=1)\n",
    "x, y, = data[:,0][:SLICE], data[:,1][:SLICE]\n",
    "plt.plot(x,y, label=\"ITIC\")\n",
    "plt.title(\"#nofilter\", size=20)\n",
    "plt.ylabel(\"Intensity [arb. unit]\", size=20)\n",
    "plt.xlabel(\"r [nm^-1]\", size=20)\n",
    "plt.legend(loc=\"best\", prop={'size': 20})\n",
    "#plt.axvline(20/(np.pi*2), color='k', linestyle='--')\n",
    "plt.savefig(\"sf.png\", transparent=True)"
   ]
  },
  {
   "cell_type": "code",
   "execution_count": null,
   "metadata": {},
   "outputs": [],
   "source": []
  },
  {
   "cell_type": "code",
   "execution_count": 33,
   "metadata": {},
   "outputs": [
    {
     "data": {
      "text/plain": [
       "0.53"
      ]
     },
     "execution_count": 33,
     "metadata": {},
     "output_type": "execute_result"
    }
   ],
   "source": [
    "106/200"
   ]
  },
  {
   "cell_type": "code",
   "execution_count": 34,
   "metadata": {},
   "outputs": [
    {
     "data": {
      "text/plain": [
       "11.855066617319974"
      ]
     },
     "execution_count": 34,
     "metadata": {},
     "output_type": "execute_result"
    }
   ],
   "source": [
    "np.pi*2/(0.53)"
   ]
  },
  {
   "cell_type": "code",
   "execution_count": 53,
   "metadata": {},
   "outputs": [
    {
     "data": {
      "text/plain": [
       "1"
      ]
     },
     "execution_count": 53,
     "metadata": {},
     "output_type": "execute_result"
    }
   ],
   "source": [
    "(-1)**2"
   ]
  },
  {
   "cell_type": "code",
   "execution_count": 7,
   "metadata": {},
   "outputs": [],
   "source": [
    "x = 2"
   ]
  },
  {
   "cell_type": "markdown",
   "metadata": {},
   "source": [
    "## "
   ]
  },
  {
   "cell_type": "code",
   "execution_count": 8,
   "metadata": {},
   "outputs": [],
   "source": [
    "x *= 5"
   ]
  },
  {
   "cell_type": "code",
   "execution_count": 9,
   "metadata": {},
   "outputs": [
    {
     "data": {
      "text/plain": [
       "10"
      ]
     },
     "execution_count": 9,
     "metadata": {},
     "output_type": "execute_result"
    }
   ],
   "source": [
    "x"
   ]
  },
  {
   "cell_type": "code",
   "execution_count": 7,
   "metadata": {},
   "outputs": [
    {
     "data": {
      "text/plain": [
       "True"
      ]
     },
     "execution_count": 7,
     "metadata": {},
     "output_type": "execute_result"
    }
   ],
   "source": [
    "0.000572956500956023 == 5.72956500956023e-4"
   ]
  },
  {
   "cell_type": "code",
   "execution_count": 8,
   "metadata": {},
   "outputs": [],
   "source": [
    "x = [2]\n",
    "y = [3]"
   ]
  },
  {
   "cell_type": "code",
   "execution_count": 12,
   "metadata": {},
   "outputs": [
    {
     "name": "stdout",
     "output_type": "stream",
     "text": [
      "hi\n"
     ]
    }
   ],
   "source": []
  },
  {
   "cell_type": "code",
   "execution_count": 13,
   "metadata": {},
   "outputs": [],
   "source": [
    "test = {\"mike\":[27], \"henry\":[]}"
   ]
  },
  {
   "cell_type": "code",
   "execution_count": 14,
   "metadata": {},
   "outputs": [],
   "source": [
    "if test[\"henry\"]:\n",
    "    print(\"hi\")"
   ]
  },
  {
   "cell_type": "code",
   "execution_count": 4,
   "metadata": {},
   "outputs": [],
   "source": []
  },
  {
   "cell_type": "code",
   "execution_count": 5,
   "metadata": {},
   "outputs": [],
   "source": [
    "my_list = [\n",
    "['ca-ca-ca-ca', 3.4655831739961753, 2.0, 3.141592653589],\n",
    "['ca-ca-ca-cc', 3.4655831739961753, 2.0, 3.141592653589],\n",
    "['ca-ca-ca-ha', 3.4655831739961753, 2.0, 3.141592653589],\n",
    "['ca-ca-cd-ss', 3.4655831739961753, 2.0, 3.141592653589],\n",
    "['ca-c3-cc-cd', 3.8240917782026767, 2.0, 3.141592653589],\n",
    "['ca-c3-cc-cc', 3.8240917782026767, 2.0, 3.141592653589],\n",
    "['ca-c3-c3-c3', 0.14871468026343743, 3.0, 0.0],\n",
    "['ca-ca-ca-cd', 3.4655831739961753, 2.0, 3.141592653589],\n",
    "['cc-c3-ca-ca', 3.4655831739961753, 2.0, 3.141592653589],\n",
    "['ca-ca-cc-ss', 3.4655831739961753, 2.0, 3.141592653589],\n",
    "['cd-c3-ca-ca', 3.4655831739961753, 2.0, 3.141592653589],\n",
    "['ha-ca-ca-cc', 0.6692160611854684, 2.0, 3.141592653589],\n",
    "['ha-ca-ca-cd', 0.6692160611854684, 2.0, 3.141592653589],\n",
    "['cd-c3-c3-c3', 0.14871468026343743, 3.0, 0.0],\n",
    "['ss-cc-cd-cd', 3.8240917782026767, 2.0, 3.141592653589],\n",
    "['c3-c3-c3-c3', 0.17208413001912046, 3.0, 0.0],\n",
    "['c3-c3-c3-c3', 0.2390057361376673, 2.0, 3.141592653589],\n",
    "['c3-c3-c3-c3', 0.19120458891013384, 1.0, 3.141592653589],\n",
    "['c3-c3-c3-hc', 0.15296367112810708, 3.0, 0.0],\n",
    "['cc-ca-ca-ca', 3.4655831739961753, 2.0, 3.141592653589],\n",
    "['cc-ca-ca-ha', 0.6692160611854684, 2.0, 3.141592653589],\n",
    "['cc-c3-c3-c3', 0.14871468026343743, 3.0, 0.0],\n",
    "['cc-cc-cd-ss', 3.8240917782026767, 2.0, 3.141592653589],\n",
    "['cd-cc-cc-cd', 3.8240917782026767, 2.0, 3.141592653589],\n",
    "['cd-cc-cc-ha', 3.8240917782026767, 2.0, 3.141592653589],\n",
    "['cd-ca-ca-ca', 3.4655831739961753, 2.0, 3.141592653589],\n",
    "['cd-ca-ca-ha', 0.6692160611854684, 2.0, 3.141592653589],\n",
    "['hc-c3-c3-c3', 0.15296367112810708, 3.0, 0.0],\n",
    "['ca-ca-ca-nc', 3.4655831739961753, 2.0, 3.141592653589],\n",
    "['ca-ca-ce-ha', 3.4655831739961753, 2.0, 3.141592653589],\n",
    "['ca-ca-ca-ce', 3.4655831739961753, 2.0, 3.141592653589],\n",
    "['nc-ca-ca-ca', 3.4655831739961753, 2.0, 3.141592653589],\n",
    "['ha-ca-ca-ce', 0.6692160611854684, 2.0, 3.141592653589],\n",
    "['cf-ca-ca-ca', 3.4655831739961753, 2.0, 3.141592653589],\n",
    "['cf-ca-ca-ha', 0.6692160611854684, 2.0, 3.141592653589],\n",
    "['ca-ca-cf-ha', 3.4655831739961753, 2.0, 3.141592653589],\n",
    "['ca-c3-ca-ca', 1.0516252390057361, 2.0, 3.141592653589],\n",
    "['ca-ca-ca-ha', 1.0516252390057361, 2.0, 3.141592653589],\n",
    "['ca-ca-ca-cc', 1.0516252390057361, 2.0, 3.141592653589],\n",
    "['ca-ca-ca-cd', 1.0516252390057361, 2.0, 3.141592653589],\n",
    "['cd-ca-cc-ss', 1.0516252390057361, 2.0, 3.141592653589],\n",
    "['cc-c3-cd-cd', 1.0516252390057361, 2.0, 3.141592653589],\n",
    "['cd-cc-cd-ha', 1.0516252390057361, 2.0, 3.141592653589],\n",
    "['cc-c3-cc-cd', 1.0516252390057361, 2.0, 3.141592653589],\n",
    "['cc-ca-cd-ss', 1.0516252390057361, 2.0, 3.141592653589],\n",
    "['cd-cc-cc-ha', 1.0516252390057361, 2.0, 3.141592653589],\n",
    "['ca-ca-ca-ce', 1.0516252390057361, 2.0, 3.141592653589],\n",
    "['ca-ca-ca-nc', 1.0516252390057361, 2.0, 3.141592653589],\n",
    "['cd-ca-ce-ha', 1.0516252390057361, 2.0, 3.141592653589],\n",
    "['ce-c-cd-ss', 1.0516252390057361, 2.0, 3.141592653589],\n",
    "['ss-c-n-s', 1.0516252390057361, 2.0, 3.141592653589],\n",
    "['c-c-n-c3', 1.0516252390057361, 2.0, 3.141592653589],\n",
    "['o-c-cd-n', 10.038240917782026, 2.0, 3.141592653589],\n",
    "['o-c-cc-n', 10.038240917782026, 2.0, 3.141592653589],\n",
    "['cc-ca-cf-ha', 1.0516252390057361, 2.0, 3.141592653589],\n",
    "['ca-ca-ca-cf', 1.0516252390057361, 2.0, 3.141592653589],\n",
    "['last', 1.0516252390057361, 2.0, 3.141592653589],\n",
    "['last', 1.0516252390057361, 1.0, 3.141592653589]]\n",
    "#['really-last', 1.0516252390057361, -1.0, 3.141592653589]]\n"
   ]
  },
  {
   "cell_type": "code",
   "execution_count": 2,
   "metadata": {},
   "outputs": [
    {
     "name": "stdout",
     "output_type": "stream",
     "text": [
      "['ca-ca-ca-ca', 3.4655831739961753, 2.0, 3.141592653589]\n",
      "['ca-ca-ca-cc', 3.4655831739961753, 2.0, 3.141592653589]\n",
      "['ca-ca-ca-ha', 3.4655831739961753, 2.0, 3.141592653589]\n",
      "['ca-ca-cd-ss', 3.4655831739961753, 2.0, 3.141592653589]\n",
      "['ca-c3-cc-cd', 3.8240917782026767, 2.0, 3.141592653589]\n",
      "['ca-c3-cc-cc', 3.8240917782026767, 2.0, 3.141592653589]\n",
      "['ca-c3-c3-c3', 0.14871468026343743, 3.0, 0.0]\n",
      "['ca-ca-ca-cd', 3.4655831739961753, 2.0, 3.141592653589]\n",
      "['cc-c3-ca-ca', 3.4655831739961753, 2.0, 3.141592653589]\n",
      "['ca-ca-cc-ss', 3.4655831739961753, 2.0, 3.141592653589]\n",
      "['cd-c3-ca-ca', 3.4655831739961753, 2.0, 3.141592653589]\n",
      "['ha-ca-ca-cc', 0.6692160611854684, 2.0, 3.141592653589]\n",
      "['ha-ca-ca-cd', 0.6692160611854684, 2.0, 3.141592653589]\n",
      "['cd-c3-c3-c3', 0.14871468026343743, 3.0, 0.0]\n",
      "['ss-cc-cd-cd', 3.8240917782026767, 2.0, 3.141592653589]\n",
      "['c3-c3-c3-c3', 0.17208413001912046, 3.0, 0.0, 0.2390057361376673, 2.0, 3.141592653589, 0.19120458891013384, 1.0, 3.141592653589]\n",
      "['c3-c3-c3-hc', 0.15296367112810708, 3.0, 0.0]\n",
      "['cc-ca-ca-ca', 3.4655831739961753, 2.0, 3.141592653589]\n",
      "['cc-ca-ca-ha', 0.6692160611854684, 2.0, 3.141592653589]\n",
      "['cc-c3-c3-c3', 0.14871468026343743, 3.0, 0.0]\n",
      "['cc-cc-cd-ss', 3.8240917782026767, 2.0, 3.141592653589]\n",
      "['cd-cc-cc-cd', 3.8240917782026767, 2.0, 3.141592653589]\n",
      "['cd-cc-cc-ha', 3.8240917782026767, 2.0, 3.141592653589]\n",
      "['cd-ca-ca-ca', 3.4655831739961753, 2.0, 3.141592653589]\n",
      "['cd-ca-ca-ha', 0.6692160611854684, 2.0, 3.141592653589]\n",
      "['hc-c3-c3-c3', 0.15296367112810708, 3.0, 0.0]\n",
      "['ca-ca-ca-nc', 3.4655831739961753, 2.0, 3.141592653589]\n",
      "['ca-ca-ce-ha', 3.4655831739961753, 2.0, 3.141592653589]\n",
      "['ca-ca-ca-ce', 3.4655831739961753, 2.0, 3.141592653589]\n",
      "['nc-ca-ca-ca', 3.4655831739961753, 2.0, 3.141592653589]\n",
      "['ha-ca-ca-ce', 0.6692160611854684, 2.0, 3.141592653589]\n",
      "['cf-ca-ca-ca', 3.4655831739961753, 2.0, 3.141592653589]\n",
      "['cf-ca-ca-ha', 0.6692160611854684, 2.0, 3.141592653589]\n",
      "['ca-ca-cf-ha', 3.4655831739961753, 2.0, 3.141592653589]\n",
      "['ca-c3-ca-ca', 1.0516252390057361, 2.0, 3.141592653589]\n",
      "['ca-ca-ca-ha', 1.0516252390057361, 2.0, 3.141592653589]\n",
      "['ca-ca-ca-cc', 1.0516252390057361, 2.0, 3.141592653589]\n",
      "['ca-ca-ca-cd', 1.0516252390057361, 2.0, 3.141592653589]\n",
      "['cd-ca-cc-ss', 1.0516252390057361, 2.0, 3.141592653589]\n",
      "['cc-c3-cd-cd', 1.0516252390057361, 2.0, 3.141592653589]\n",
      "['cd-cc-cd-ha', 1.0516252390057361, 2.0, 3.141592653589]\n",
      "['cc-c3-cc-cd', 1.0516252390057361, 2.0, 3.141592653589]\n",
      "['cc-ca-cd-ss', 1.0516252390057361, 2.0, 3.141592653589]\n",
      "['cd-cc-cc-ha', 1.0516252390057361, 2.0, 3.141592653589]\n",
      "['ca-ca-ca-ce', 1.0516252390057361, 2.0, 3.141592653589]\n",
      "['ca-ca-ca-nc', 1.0516252390057361, 2.0, 3.141592653589]\n",
      "['cd-ca-ce-ha', 1.0516252390057361, 2.0, 3.141592653589]\n",
      "['ce-c-cd-ss', 1.0516252390057361, 2.0, 3.141592653589]\n",
      "['ss-c-n-s', 1.0516252390057361, 2.0, 3.141592653589]\n",
      "['c-c-n-c3', 1.0516252390057361, 2.0, 3.141592653589]\n",
      "['o-c-cd-n', 10.038240917782026, 2.0, 3.141592653589]\n",
      "['o-c-cc-n', 10.038240917782026, 2.0, 3.141592653589]\n",
      "['cc-ca-cf-ha', 1.0516252390057361, 2.0, 3.141592653589]\n",
      "['ca-ca-ca-cf', 1.0516252390057361, 2.0, 3.141592653589]\n",
      "['last', 1.0516252390057361, 2.0, 3.141592653589, 1.0516252390057361, 1.0, 3.141592653589]\n",
      "['really-last', 1.0516252390057361, -1.0, 3.141592653589]\n"
     ]
    }
   ],
   "source": [
    "from itertools import tee\n",
    "\n",
    "\n",
    "my_list = [\n",
    "['ca-ca-ca-ca', 3.4655831739961753, 2.0, 3.141592653589],\n",
    "['ca-ca-ca-cc', 3.4655831739961753, 2.0, 3.141592653589],\n",
    "['ca-ca-ca-ha', 3.4655831739961753, 2.0, 3.141592653589],\n",
    "['ca-ca-cd-ss', 3.4655831739961753, 2.0, 3.141592653589],\n",
    "['ca-c3-cc-cd', 3.8240917782026767, 2.0, 3.141592653589],\n",
    "['ca-c3-cc-cc', 3.8240917782026767, 2.0, 3.141592653589],\n",
    "['ca-c3-c3-c3', 0.14871468026343743, 3.0, 0.0],\n",
    "['ca-ca-ca-cd', 3.4655831739961753, 2.0, 3.141592653589],\n",
    "['cc-c3-ca-ca', 3.4655831739961753, 2.0, 3.141592653589],\n",
    "['ca-ca-cc-ss', 3.4655831739961753, 2.0, 3.141592653589],\n",
    "['cd-c3-ca-ca', 3.4655831739961753, 2.0, 3.141592653589],\n",
    "['ha-ca-ca-cc', 0.6692160611854684, 2.0, 3.141592653589],\n",
    "['ha-ca-ca-cd', 0.6692160611854684, 2.0, 3.141592653589],\n",
    "['cd-c3-c3-c3', 0.14871468026343743, 3.0, 0.0],\n",
    "['ss-cc-cd-cd', 3.8240917782026767, 2.0, 3.141592653589],\n",
    "['c3-c3-c3-c3', 0.17208413001912046, 3.0, 0.0],\n",
    "['c3-c3-c3-c3', 0.2390057361376673, 2.0, 3.141592653589],\n",
    "['c3-c3-c3-c3', 0.19120458891013384, 1.0, 3.141592653589],\n",
    "['c3-c3-c3-hc', 0.15296367112810708, 3.0, 0.0],\n",
    "['cc-ca-ca-ca', 3.4655831739961753, 2.0, 3.141592653589],\n",
    "['cc-ca-ca-ha', 0.6692160611854684, 2.0, 3.141592653589],\n",
    "['cc-c3-c3-c3', 0.14871468026343743, 3.0, 0.0],\n",
    "['cc-cc-cd-ss', 3.8240917782026767, 2.0, 3.141592653589],\n",
    "['cd-cc-cc-cd', 3.8240917782026767, 2.0, 3.141592653589],\n",
    "['cd-cc-cc-ha', 3.8240917782026767, 2.0, 3.141592653589],\n",
    "['cd-ca-ca-ca', 3.4655831739961753, 2.0, 3.141592653589],\n",
    "['cd-ca-ca-ha', 0.6692160611854684, 2.0, 3.141592653589],\n",
    "['hc-c3-c3-c3', 0.15296367112810708, 3.0, 0.0],\n",
    "['ca-ca-ca-nc', 3.4655831739961753, 2.0, 3.141592653589],\n",
    "['ca-ca-ce-ha', 3.4655831739961753, 2.0, 3.141592653589],\n",
    "['ca-ca-ca-ce', 3.4655831739961753, 2.0, 3.141592653589],\n",
    "['nc-ca-ca-ca', 3.4655831739961753, 2.0, 3.141592653589],\n",
    "['ha-ca-ca-ce', 0.6692160611854684, 2.0, 3.141592653589],\n",
    "['cf-ca-ca-ca', 3.4655831739961753, 2.0, 3.141592653589],\n",
    "['cf-ca-ca-ha', 0.6692160611854684, 2.0, 3.141592653589],\n",
    "['ca-ca-cf-ha', 3.4655831739961753, 2.0, 3.141592653589],\n",
    "['ca-c3-ca-ca', 1.0516252390057361, 2.0, 3.141592653589],\n",
    "['ca-ca-ca-ha', 1.0516252390057361, 2.0, 3.141592653589],\n",
    "['ca-ca-ca-cc', 1.0516252390057361, 2.0, 3.141592653589],\n",
    "['ca-ca-ca-cd', 1.0516252390057361, 2.0, 3.141592653589],\n",
    "['cd-ca-cc-ss', 1.0516252390057361, 2.0, 3.141592653589],\n",
    "['cc-c3-cd-cd', 1.0516252390057361, 2.0, 3.141592653589],\n",
    "['cd-cc-cd-ha', 1.0516252390057361, 2.0, 3.141592653589],\n",
    "['cc-c3-cc-cd', 1.0516252390057361, 2.0, 3.141592653589],\n",
    "['cc-ca-cd-ss', 1.0516252390057361, 2.0, 3.141592653589],\n",
    "['cd-cc-cc-ha', 1.0516252390057361, 2.0, 3.141592653589],\n",
    "['ca-ca-ca-ce', 1.0516252390057361, 2.0, 3.141592653589],\n",
    "['ca-ca-ca-nc', 1.0516252390057361, 2.0, 3.141592653589],\n",
    "['cd-ca-ce-ha', 1.0516252390057361, 2.0, 3.141592653589],\n",
    "['ce-c-cd-ss', 1.0516252390057361, 2.0, 3.141592653589],\n",
    "['ss-c-n-s', 1.0516252390057361, 2.0, 3.141592653589],\n",
    "['c-c-n-c3', 1.0516252390057361, 2.0, 3.141592653589],\n",
    "['o-c-cd-n', 10.038240917782026, 2.0, 3.141592653589],\n",
    "['o-c-cc-n', 10.038240917782026, 2.0, 3.141592653589],\n",
    "['cc-ca-cf-ha', 1.0516252390057361, 2.0, 3.141592653589],\n",
    "['ca-ca-ca-cf', 1.0516252390057361, 2.0, 3.141592653589],\n",
    "['last', 1.0516252390057361, 2.0, 3.141592653589],\n",
    "['last', 1.0516252390057361, 1.0, 3.141592653589],\n",
    "['really-last', 1.0516252390057361, -1.0, 3.141592653589]]\n",
    "\n",
    "def pairwise(iterable):\n",
    "    \"s -> (s0,s1), (s1,s2), (s2, s3), ...\"\n",
    "    a, b = tee(iterable)\n",
    "    next(b, None)\n",
    "    return zip(a, b)\n",
    "\n",
    "def more_than_one_di(group):\n",
    "    bar = []\n",
    "    bar.append(group[0][0])\n",
    "    for coefs in group:\n",
    "        for parm in coefs[1:]:\n",
    "            bar.append(parm)\n",
    "    # call set di here, more than obne\n",
    "    print(bar)\n",
    "group = []    \n",
    "for cur, _next in pairwise(my_list):\n",
    "    if cur[0] == _next[0]:\n",
    "        group.append(cur)\n",
    "    else:\n",
    "        group.append(cur)\n",
    "        if len(group) > 1:\n",
    "            more_than_one_di(group)\n",
    "        else:\n",
    "            # call set di here, only 1\n",
    "            print(cur)\n",
    "        group = []\n",
    "else:\n",
    "    group.append(cur)\n",
    "    if len(group) > 1:\n",
    "        more_than_one_di(group)\n",
    "    else:\n",
    "    # call set di here, only 1\n",
    "        print(_next)\n",
    "\n"
   ]
  },
  {
   "cell_type": "code",
   "execution_count": 25,
   "metadata": {},
   "outputs": [],
   "source": [
    "my_coefs = {\n",
    "    \"psi_k1\":0,\n",
    "    \"period1\":0,\n",
    "    \"phase1\":0,\n",
    "    \"psi_k2\":0,\n",
    "    \"period2\":0,\n",
    "    \"phase2\":0,\n",
    "    \"psi_k3\":0,\n",
    "    \"period3\":0,\n",
    "    \"phase3\":0,\n",
    "    \"psi_k4\":0,\n",
    "    \"period4\":0,\n",
    "    \"phase4\":0,\n",
    "}"
   ]
  },
  {
   "cell_type": "code",
   "execution_count": 112,
   "metadata": {},
   "outputs": [
    {
     "ename": "TypeError",
     "evalue": "foo() missing 3 required positional arguments: 'g', 'h', and 'i'",
     "output_type": "error",
     "traceback": [
      "\u001b[0;31m---------------------------------------------------------------------------\u001b[0m",
      "\u001b[0;31mTypeError\u001b[0m                                 Traceback (most recent call last)",
      "\u001b[0;32m<ipython-input-112-9624cdef728c>\u001b[0m in \u001b[0;36m<module>\u001b[0;34m()\u001b[0m\n\u001b[0;32m----> 1\u001b[0;31m \u001b[0mfoo\u001b[0m\u001b[0;34m(\u001b[0m\u001b[0;34m*\u001b[0m\u001b[0;34m[\u001b[0m\u001b[0;36m0.17208413001912046\u001b[0m\u001b[0;34m,\u001b[0m \u001b[0;36m3.0\u001b[0m\u001b[0;34m,\u001b[0m \u001b[0;36m0.0\u001b[0m\u001b[0;34m]\u001b[0m\u001b[0;34m,\u001b[0m \u001b[0;34m*\u001b[0m\u001b[0;34m[\u001b[0m\u001b[0;36m0.2390057361376673\u001b[0m\u001b[0;34m,\u001b[0m \u001b[0;36m2.0\u001b[0m\u001b[0;34m,\u001b[0m \u001b[0;36m3.141592653589\u001b[0m\u001b[0;34m]\u001b[0m\u001b[0;34m)\u001b[0m\u001b[0;34m\u001b[0m\u001b[0m\n\u001b[0m",
      "\u001b[0;31mTypeError\u001b[0m: foo() missing 3 required positional arguments: 'g', 'h', and 'i'"
     ]
    }
   ],
   "source": []
  },
  {
   "cell_type": "code",
   "execution_count": 1,
   "metadata": {},
   "outputs": [
    {
     "ename": "SyntaxError",
     "evalue": "invalid syntax (<ipython-input-1-49e30b9643ea>, line 1)",
     "output_type": "error",
     "traceback": [
      "\u001b[0;36m  File \u001b[0;32m\"<ipython-input-1-49e30b9643ea>\"\u001b[0;36m, line \u001b[0;32m1\u001b[0m\n\u001b[0;31m    **ERROR**: Dihedral type hc-c3-c3-c3 not found in dihedral coeff\u001b[0m\n\u001b[0m     ^\u001b[0m\n\u001b[0;31mSyntaxError\u001b[0m\u001b[0;31m:\u001b[0m invalid syntax\n"
     ]
    }
   ],
   "source": [
    "**ERROR**: Dihedral type hc-c3-c3-c3 not found in dihedral coeff\n",
    "**ERROR**: Dihedral type ca-ca-ca-ca not found in dihedral coeff\n",
    "**ERROR**: Dihedral type ca-ca-ca-ha not found in dihedral coeff\n",
    "**ERROR**: Dihedral type ca-c3-cc-cc not found in dihedral coeff\n",
    "**ERROR**: Dihedral type c3-c3-c3-hc not found in dihedral coeff\n",
    "**ERROR**: Dihedral type ca-ca-cd-ss not found in dihedral coeff\n",
    "**ERROR**: Dihedral type c3-c3-c3-c3 not found in dihedral coeff\n",
    "**ERROR**: Dihedral type cd-ca-ce-ha not found in dihedral coeff\n",
    "**ERROR**: Dihedral type ca-ca-ce-ha not found in dihedral coeff\n",
    "**ERROR**: Dihedral type nc-ca-ca-ca not found in dihedral coeff\n",
    "**ERROR**: Dihedral type ca-ca-ca-nc not found in dihedral coeff\n",
    "**ERROR**: Dihedral type ca-ca-cc-ss not found in dihedral coeff\n",
    "**ERROR**: Dihedral type ca-ca-ca-ce not found in dihedral coeff\n",
    "**ERROR**: Dihedral type ca-ca-ca-cc not found in dihedral coeff\n",
    "**ERROR**: Dihedral type ss-c-n-s not found in dihedral coeff\n",
    "**ERROR**: Dihedral type ss-cc-cd-cd not found in dihedral coeff\n",
    "**ERROR**: Dihedral type cf-ca-ca-ca not found in dihedral coeff\n",
    "**ERROR**: Dihedral type cc-c3-cc-cd not found in dihedral coeff\n",
    "**ERROR**: Dihedral type ca-ca-ca-cf not found in dihedral coeff\n",
    "**ERROR**: Dihedral type ca-c3-ca-ca not found in dihedral coeff\n",
    "**ERROR**: Dihedral type ca-ca-ca-cd not found in dihedral coeff\n",
    "**ERROR**: Dihedral type cc-c3-ca-ca not found in dihedral coeff\n",
    "**ERROR**: Dihedral type cd-c3-c3-c3 not found in dihedral coeff\n",
    "**ERROR**: Dihedral type cd-ca-cc-ss not found in dihedral coeff\n",
    "**ERROR**: Dihedral type cc-c3-c3-c3 not found in dihedral coeff\n",
    "**ERROR**: Dihedral type ca-ca-cf-ha not found in dihedral coeff\n",
    "**ERROR**: Dihedral type cd-cc-cd-ha not found in dihedral coeff\n",
    "**ERROR**: Dihedral type cd-ca-ca-ca not found in dihedral coeff\n",
    "**ERROR**: Dihedral type cf-ca-ca-ha not found in dihedral coeff\n",
    "**ERROR**: Dihedral type ce-c-cd-ss not found in dihedral coeff\n",
    "**ERROR**: Dihedral type cc-ca-ca-ca not found in dihedral coeff\n",
    "**ERROR**: Dihedral type cd-cc-cc-cd not found in dihedral coeff\n",
    "**ERROR**: Dihedral type ca-c3-c3-c3 not found in dihedral coeff\n",
    "**ERROR**: Dihedral type cc-ca-cd-ss not found in dihedral coeff\n",
    "**ERROR**: Dihedral type cd-c3-ca-ca not found in dihedral coeff\n",
    "**ERROR**: Dihedral type ha-ca-ca-cd not found in dihedral coeff\n",
    "**ERROR**: Dihedral type ha-ca-ca-ce not found in dihedral coeff\n",
    "**ERROR**: Dihedral type cd-ca-ca-ha not found in dihedral coeff\n",
    "**ERROR**: Dihedral type o-c-cc-n not found in dihedral coeff\n",
    "**ERROR**: Dihedral type cd-cc-cc-ha not found in dihedral coeff\n",
    "**ERROR**: Dihedral type c-c-n-c3 not found in dihedral coeff\n",
    "**ERROR**: Dihedral type cc-ca-cf-ha not found in dihedral coeff\n",
    "**ERROR**: Dihedral type cc-cc-cd-ss not found in dihedral coeff\n",
    "**ERROR**: Dihedral type cc-c3-cd-cd not found in dihedral coeff\n",
    "**ERROR**: Dihedral type ha-ca-ca-cc not found in dihedral coeff\n",
    "**ERROR**: Dihedral type cc-ca-ca-ha not found in dihedral coeff\n",
    "**ERROR**: Dihedral type o-c-cd-n not found in dihedral coeff\n",
    "**ERROR**: Dihedral type ca-c3-cc-cd not found in dihedral coeff\n"
   ]
  },
  {
   "cell_type": "code",
   "execution_count": 2,
   "metadata": {},
   "outputs": [],
   "source": [
    "params = ['c3-c3-c3-c3', 0.17208413001912046, 3.0, 0.0, 0.2390057361376673, 2.0, 3.141592653589, 0.19120458891013384, 1.0, 3.141592653589]"
   ]
  },
  {
   "cell_type": "code",
   "execution_count": 18,
   "metadata": {},
   "outputs": [
    {
     "name": "stdout",
     "output_type": "stream",
     "text": [
      "0 3\n",
      "3 6\n",
      "6 9\n"
     ]
    }
   ],
   "source": [
    "for _ in range(len(params[1:])//3):\n",
    "    print(_*3, _*3+3)"
   ]
  },
  {
   "cell_type": "code",
   "execution_count": 9,
   "metadata": {},
   "outputs": [
    {
     "data": {
      "text/plain": [
       "[0.17208413001912046, 3.0, 0.0]"
      ]
     },
     "execution_count": 9,
     "metadata": {},
     "output_type": "execute_result"
    }
   ],
   "source": [
    "params[1:][0:3]"
   ]
  },
  {
   "cell_type": "code",
   "execution_count": 10,
   "metadata": {},
   "outputs": [
    {
     "data": {
      "text/plain": [
       "[0.2390057361376673, 2.0, 3.141592653589]"
      ]
     },
     "execution_count": 10,
     "metadata": {},
     "output_type": "execute_result"
    }
   ],
   "source": [
    "params[1:][3:6]"
   ]
  },
  {
   "cell_type": "code",
   "execution_count": 12,
   "metadata": {},
   "outputs": [
    {
     "data": {
      "text/plain": [
       "[0.19120458891013384, 1.0, 3.141592653589]"
      ]
     },
     "execution_count": 12,
     "metadata": {},
     "output_type": "execute_result"
    }
   ],
   "source": [
    "params[1:][6:9]"
   ]
  },
  {
   "cell_type": "code",
   "execution_count": 5,
   "metadata": {},
   "outputs": [
    {
     "name": "stdout",
     "output_type": "stream",
     "text": [
      "{'psi_k1': 0.17208413001912046, 'period1': 3.0, 'phase1': 0.0, 'psi_k2': 0.2390057361376673, 'period2': 2.0, 'phase2': 3.141592653589, 'psi_k3': 0.19120458891013384, 'period3': 1.0, 'phase3': 3.141592653589, 'psi_k4': 0, 'period4': 0, 'phase4': 0}\n"
     ]
    }
   ],
   "source": [
    "params = ['c3-c3-c3-c3', 0.17208413001912046, 3.0, 0.0, 0.2390057361376673, 2.0, 3.141592653589, 0.19120458891013384, 1.0, 3.141592653589]\n",
    "my_coefs = {\n",
    "    \"psi_k1\":0,\n",
    "    \"period1\":0,\n",
    "    \"phase1\":0,\n",
    "    \"psi_k2\":0,\n",
    "    \"period2\":0,\n",
    "    \"phase2\":0,\n",
    "    \"psi_k3\":0,\n",
    "    \"period3\":0,\n",
    "    \"phase3\":0,\n",
    "    \"psi_k4\":0,\n",
    "    \"period4\":0,\n",
    "    \"phase4\":0,\n",
    "}\n",
    "for _ in range(len(params[1:])//3):\n",
    "    for key, val in zip(my_coefs, params[1:][_*3:_*3+3]):\n",
    "        key = key[:-1] + str(int(key[-1]) + _)\n",
    "        my_coefs[key] = val\n",
    "print(my_coefs)"
   ]
  },
  {
   "cell_type": "code",
   "execution_count": 35,
   "metadata": {},
   "outputs": [
    {
     "ename": "KeyError",
     "evalue": "-1",
     "output_type": "error",
     "traceback": [
      "\u001b[0;31m---------------------------------------------------------------------------\u001b[0m",
      "\u001b[0;31mKeyError\u001b[0m                                  Traceback (most recent call last)",
      "\u001b[0;32m<ipython-input-35-8bc41fe0af42>\u001b[0m in \u001b[0;36m<module>\u001b[0;34m()\u001b[0m\n\u001b[0;32m----> 1\u001b[0;31m \u001b[0mmy_coefs\u001b[0m\u001b[0;34m[\u001b[0m\u001b[0;34m-\u001b[0m\u001b[0;36m1\u001b[0m\u001b[0;34m]\u001b[0m\u001b[0;34m\u001b[0m\u001b[0m\n\u001b[0m",
      "\u001b[0;31mKeyError\u001b[0m: -1"
     ]
    }
   ],
   "source": []
  },
  {
   "cell_type": "code",
   "execution_count": 7,
   "metadata": {},
   "outputs": [
    {
     "ename": "AttributeError",
     "evalue": "'dict' object has no attribute 'period1'",
     "output_type": "error",
     "traceback": [
      "\u001b[0;31m---------------------------------------------------------------------------\u001b[0m",
      "\u001b[0;31mAttributeError\u001b[0m                            Traceback (most recent call last)",
      "\u001b[0;32m<ipython-input-7-3939462d78cb>\u001b[0m in \u001b[0;36m<module>\u001b[0;34m()\u001b[0m\n\u001b[0;32m----> 1\u001b[0;31m \u001b[0mmy_coefs\u001b[0m\u001b[0;34m.\u001b[0m\u001b[0mperiod1\u001b[0m\u001b[0;34m\u001b[0m\u001b[0m\n\u001b[0m",
      "\u001b[0;31mAttributeError\u001b[0m: 'dict' object has no attribute 'period1'"
     ]
    }
   ],
   "source": [
    "my_coefs.period1"
   ]
  },
  {
   "cell_type": "code",
   "execution_count": 6,
   "metadata": {},
   "outputs": [
    {
     "data": {
      "text/plain": [
       "1.6600000000000001"
      ]
     },
     "execution_count": 6,
     "metadata": {},
     "output_type": "execute_result"
    }
   ],
   "source": [
    "(1.66e-24*1e24)"
   ]
  },
  {
   "cell_type": "code",
   "execution_count": 7,
   "metadata": {},
   "outputs": [
    {
     "data": {
      "text/plain": [
       "1.1840481475428983"
      ]
     },
     "execution_count": 7,
     "metadata": {},
     "output_type": "execute_result"
    }
   ],
   "source": [
    "1.66**(1/3)"
   ]
  },
  {
   "cell_type": "code",
   "execution_count": 8,
   "metadata": {},
   "outputs": [
    {
     "data": {
      "text/plain": [
       "1.1841763"
      ]
     },
     "execution_count": 8,
     "metadata": {},
     "output_type": "execute_result"
    }
   ],
   "source": [
    "1.1841763"
   ]
  },
  {
   "cell_type": "code",
   "execution_count": 11,
   "metadata": {},
   "outputs": [
    {
     "data": {
      "text/plain": [
       "0.00166"
      ]
     },
     "execution_count": 11,
     "metadata": {},
     "output_type": "execute_result"
    }
   ],
   "source": [
    "(1.66e-27*1e27/1000)"
   ]
  },
  {
   "cell_type": "code",
   "execution_count": 1,
   "metadata": {},
   "outputs": [],
   "source": [
    "# 300\n",
    "# Target (angstroms)\n",
    "L_t = 7.33841925673639\n",
    "# Actual \n",
    "L_a = 20.592743282667005\n",
    "# Ref\n",
    "ref_distance=0.35635948725613575\n",
    "\n",
    "# now with .3\n",
    "# Works!"
   ]
  },
  {
   "cell_type": "code",
   "execution_count": 3,
   "metadata": {},
   "outputs": [
    {
     "data": {
      "text/plain": [
       "20.592742775673187"
      ]
     },
     "execution_count": 3,
     "metadata": {},
     "output_type": "execute_result"
    }
   ],
   "source": [
    "L_t/ref_distance"
   ]
  },
  {
   "cell_type": "code",
   "execution_count": 4,
   "metadata": {},
   "outputs": [
    {
     "data": {
      "text/plain": [
       "36.47975540161133"
      ]
     },
     "execution_count": 4,
     "metadata": {},
     "output_type": "execute_result"
    }
   ],
   "source": [
    "102.3678524247939*ref_distance"
   ]
  },
  {
   "cell_type": "code",
   "execution_count": 5,
   "metadata": {},
   "outputs": [
    {
     "ename": "SyntaxError",
     "evalue": "invalid syntax (<ipython-input-5-4a6b79898529>, line 1)",
     "output_type": "error",
     "traceback": [
      "\u001b[0;36m  File \u001b[0;32m\"<ipython-input-5-4a6b79898529>\"\u001b[0;36m, line \u001b[0;32m1\u001b[0m\n\u001b[0;31m    ~36.5 nm\u001b[0m\n\u001b[0m           ^\u001b[0m\n\u001b[0;31mSyntaxError\u001b[0m\u001b[0;31m:\u001b[0m invalid syntax\n"
     ]
    }
   ],
   "source": [
    "~36.5 nm"
   ]
  },
  {
   "cell_type": "code",
   "execution_count": 8,
   "metadata": {},
   "outputs": [
    {
     "data": {
      "text/plain": [
       "51062400.0"
      ]
     },
     "execution_count": 8,
     "metadata": {},
     "output_type": "execute_result"
    }
   ],
   "source": [
    "(0.985 * 600)*86400"
   ]
  },
  {
   "cell_type": "code",
   "execution_count": 35,
   "metadata": {},
   "outputs": [],
   "source": [
    "\n"
   ]
  },
  {
   "cell_type": "code",
   "execution_count": 162,
   "metadata": {},
   "outputs": [
    {
     "data": {
      "image/png": "[encoded data removed]",
      "text/plain": [
       "<Figure size 864x864 with 1 Axes>"
      ]
     },
     "metadata": {
      "needs_background": "light"
     },
     "output_type": "display_data"
    }
   ],
   "source": [
    "width = 12\n",
    "height = 12\n",
    "plt.figure(figsize=(width, height))\n",
    "\n",
    "slice_f = 4\n",
    "slice_b = 3\n",
    "#data = np.genfromtxt(\"ptb7_pcbm_sf.csv\", delimiter=\",\", skip_header=1)\n",
    "#x, y, = data[:,0][:SLICE], data[:,1][:SLICE]\n",
    "#plt.plot(x,y, label=\"PC70BM\")\n",
    "#data = np.genfromtxt(\"r2/diffract/difout/asq.txt\")\n",
    "\n",
    "data = np.genfromtxt(\"r2/diffract/alldiff/asq.txt\")\n",
    "x, y = data[:,0], data[:,1]\n",
    "x, y = x[slice_f:], y[slice_f:] \n",
    "plt.plot(x,y, label=\"IEICO + PCBM\")\n",
    "\n",
    "data = np.genfromtxt(\"r2/diffract/pcbm/asq.txt\")\n",
    "x, y = data[:,0], data[:,1]\n",
    "x, y = x[slice_f:], y[slice_f:] \n",
    "plt.plot(x,y, label=\"PCBM\")\n",
    "\n",
    "\n",
    "data = np.genfromtxt(\"r2/diffract/ieico/asq.txt\")\n",
    "x, y = data[:,0], data[:,1]\n",
    "x, y = x[slice_f:], y[slice_f:] \n",
    "plt.plot(x,y, label=\"IEICO\")\n",
    "#plt.axvline(20/(np.pi*2), color='k', linestyle='--')\n",
    "\n",
    "plt.title(\"\", size=20)\n",
    "plt.xlabel(r\"$q_r$ [$nm^{-1}$]\", size=20)\n",
    "plt.ylabel(r\"$\\log(Intensity)$ [Arb]\", size=20)\n",
    "plt.legend(loc=\"best\", prop={'size': 20})\n",
    "plt.savefig(\"sf.png\", transparent=True)"
   ]
  },
  {
   "cell_type": "code",
   "execution_count": 163,
   "metadata": {},
   "outputs": [
    {
     "data": {
      "text/plain": [
       "0.5235987755982988"
      ]
     },
     "execution_count": 163,
     "metadata": {},
     "output_type": "execute_result"
    }
   ],
   "source": [
    "(2*np.pi)/12"
   ]
  },
  {
   "cell_type": "code",
   "execution_count": 164,
   "metadata": {},
   "outputs": [
    {
     "data": {
      "text/plain": [
       "0.3141592653589793"
      ]
     },
     "execution_count": 164,
     "metadata": {},
     "output_type": "execute_result"
    }
   ],
   "source": [
    "(2*np.pi)/20"
   ]
  },
  {
   "cell_type": "code",
   "execution_count": 165,
   "metadata": {},
   "outputs": [
    {
     "data": {
      "text/plain": [
       "3.141592653589793"
      ]
     },
     "execution_count": 165,
     "metadata": {},
     "output_type": "execute_result"
    }
   ],
   "source": [
    "(2*np.pi)/2"
   ]
  },
  {
   "cell_type": "code",
   "execution_count": 153,
   "metadata": {},
   "outputs": [],
   "source": [
    "import gsd.hoomd\n",
    "\n",
    "my_gsd = gsd.hoomd.open(\"r2/trajectory.gsd\").read_frame(-1)\n",
    "my_types = my_gsd.particles.types\n",
    "type_ids = my_gsd.particles.typeid\n",
    "N = my_gsd.particles.N\n",
    "all_idx = set(range(N))\n",
    "type_dic = {key: value for key, value in enumerate(my_types)}\n",
    "typeid_to_type = [type_dic[typeid] for typeid in type_ids]\n",
    "# First lets skip out all the molecules we don't want\n",
    "# PCBM\n",
    "cut = 8800 # First idx of IEICO\n",
    "types_to_drop = [\"ha\", \"hc\", \"h1\", \"c3\"]\n",
    "PCBM_idx = set(range(0,cut))\n",
    "IEICO_idx = set(range(cut,N))\n",
    "idx_to_drop = set()\n",
    "for atom_idx, atom_type in enumerate(typeid_to_type):\n",
    "    if atom_type in types_to_drop:\n",
    "        idx_to_drop.add(atom_idx)\n",
    "        \n",
    "IEICO_idx = IEICO_idx - idx_to_drop\n",
    "PCBM_idx = PCBM_idx - idx_to_drop\n",
    "assert len(IEICO_idx) + len(PCBM_idx) == len(all_idx) - len(idx_to_drop)\n",
    "PCBM_idx_list = list(PCBM_idx)\n",
    "PCBM_idx_list.sort()\n",
    "IEICO_idx_list = list(IEICO_idx)\n",
    "IEICO_idx_list.sort()\n",
    "with open('r2/PCBM_idx.txt', 'w') as f:\n",
    "    for idx in PCBM_idx_list:\n",
    "        f.write(f\"{idx}\\n\")\n",
    "with open('r2/IEICO_idx.txt', 'w') as f:\n",
    "    for idx in IEICO_idx_list:\n",
    "        f.write(f\"{idx}\\n\")"
   ]
  },
  {
   "cell_type": "code",
   "execution_count": 144,
   "metadata": {},
   "outputs": [
    {
     "data": {
      "text/plain": [
       "(33190, 8785)"
      ]
     },
     "execution_count": 144,
     "metadata": {},
     "output_type": "execute_result"
    }
   ],
   "source": [
    "IEICO_idx_list[-1], PCBM_idx_list[-1]"
   ]
  },
  {
   "cell_type": "code",
   "execution_count": 147,
   "metadata": {},
   "outputs": [
    {
     "data": {
      "text/plain": [
       "7000"
      ]
     },
     "execution_count": 147,
     "metadata": {},
     "output_type": "execute_result"
    }
   ],
   "source": [
    "len(PCBM_idx_list)"
   ]
  },
  {
   "cell_type": "code",
   "execution_count": 82,
   "metadata": {},
   "outputs": [
    {
     "data": {
      "text/plain": [
       "[0, 1, 2]"
      ]
     },
     "execution_count": 82,
     "metadata": {},
     "output_type": "execute_result"
    }
   ],
   "source": [
    "[0,1,2,3,4][:3]"
   ]
  },
  {
   "cell_type": "code",
   "execution_count": 83,
   "metadata": {},
   "outputs": [
    {
     "data": {
      "text/plain": [
       "(8800, 8)"
      ]
     },
     "execution_count": 83,
     "metadata": {},
     "output_type": "execute_result"
    }
   ],
   "source": [
    "ids_to_skip[0], ids_to_skip[-1]"
   ]
  },
  {
   "cell_type": "code",
   "execution_count": 78,
   "metadata": {},
   "outputs": [
    {
     "data": {
      "text/plain": [
       "33200"
      ]
     },
     "execution_count": 78,
     "metadata": {},
     "output_type": "execute_result"
    }
   ],
   "source": [
    "len(ids_to_skip)"
   ]
  },
  {
   "cell_type": "code",
   "execution_count": 95,
   "metadata": {},
   "outputs": [
    {
     "data": {
      "text/plain": [
       "8800"
      ]
     },
     "execution_count": 95,
     "metadata": {},
     "output_type": "execute_result"
    }
   ],
   "source": [
    "ids_to_skip[0]"
   ]
  },
  {
   "cell_type": "code",
   "execution_count": 100,
   "metadata": {},
   "outputs": [
    {
     "data": {
      "text/plain": [
       "8799"
      ]
     },
     "execution_count": 100,
     "metadata": {},
     "output_type": "execute_result"
    }
   ],
   "source": [
    "ids_to_skip[-1]"
   ]
  },
  {
   "cell_type": "code",
   "execution_count": 113,
   "metadata": {},
   "outputs": [
    {
     "ename": "TypeError",
     "evalue": "'set' object does not support indexing",
     "output_type": "error",
     "traceback": [
      "\u001b[0;31m---------------------------------------------------------------------------\u001b[0m",
      "\u001b[0;31mTypeError\u001b[0m                                 Traceback (most recent call last)",
      "\u001b[0;32m<ipython-input-113-bf10cd8b6471>\u001b[0m in \u001b[0;36m<module>\u001b[0;34m\u001b[0m\n\u001b[0;32m----> 1\u001b[0;31m \u001b[0mids_to_skip\u001b[0m\u001b[0;34m[\u001b[0m\u001b[0;36m24399\u001b[0m\u001b[0;34m]\u001b[0m\u001b[0;34m,\u001b[0m \u001b[0mids_to_skip\u001b[0m\u001b[0;34m[\u001b[0m\u001b[0;36m24400\u001b[0m\u001b[0;34m]\u001b[0m\u001b[0;34m\u001b[0m\u001b[0m\n\u001b[0m",
      "\u001b[0;31mTypeError\u001b[0m: 'set' object does not support indexing"
     ]
    }
   ],
   "source": [
    "ids_to_skip[24399], ids_to_skip[24400]"
   ]
  },
  {
   "cell_type": "code",
   "execution_count": 107,
   "metadata": {},
   "outputs": [
    {
     "data": {
      "text/plain": [
       "-24400"
      ]
     },
     "execution_count": 107,
     "metadata": {},
     "output_type": "execute_result"
    }
   ],
   "source": [
    "8800 - N"
   ]
  },
  {
   "cell_type": "code",
   "execution_count": 166,
   "metadata": {},
   "outputs": [
    {
     "data": {
      "text/plain": [
       "0.008280000000000001"
      ]
     },
     "execution_count": 166,
     "metadata": {},
     "output_type": "execute_result"
    }
   ],
   "source": [
    "1.380e-23/1e3*6e23"
   ]
  },
  {
   "cell_type": "code",
   "execution_count": 167,
   "metadata": {},
   "outputs": [
    {
     "data": {
      "text/plain": [
       "0.0026455026455026454"
      ]
     },
     "execution_count": 167,
     "metadata": {},
     "output_type": "execute_result"
    }
   ],
   "source": [
    "1/378"
   ]
  },
  {
   "cell_type": "code",
   "execution_count": 168,
   "metadata": {},
   "outputs": [
    {
     "data": {
      "text/plain": [
       "126.0"
      ]
     },
     "execution_count": 168,
     "metadata": {},
     "output_type": "execute_result"
    }
   ],
   "source": [
    "378/3"
   ]
  },
  {
   "cell_type": "code",
   "execution_count": 169,
   "metadata": {},
   "outputs": [
    {
     "data": {
      "text/plain": [
       "38.01791763305664"
      ]
     },
     "execution_count": 169,
     "metadata": {},
     "output_type": "execute_result"
    }
   ],
   "source": [
    "106.68417424714445*0.35635948725613575"
   ]
  },
  {
   "cell_type": "code",
   "execution_count": 170,
   "metadata": {},
   "outputs": [
    {
     "data": {
      "text/plain": [
       "0.7447913283653237"
      ]
     },
     "execution_count": 170,
     "metadata": {},
     "output_type": "execute_result"
    }
   ],
   "source": [
    "2.09*0.35635948725613575"
   ]
  },
  {
   "cell_type": "code",
   "execution_count": 171,
   "metadata": {},
   "outputs": [
    {
     "data": {
      "text/plain": [
       "4.4"
      ]
     },
     "execution_count": 171,
     "metadata": {},
     "output_type": "execute_result"
    }
   ],
   "source": [
    "22/5"
   ]
  },
  {
   "cell_type": "code",
   "execution_count": 172,
   "metadata": {},
   "outputs": [
    {
     "data": {
      "text/plain": [
       "7.4"
      ]
     },
     "execution_count": 172,
     "metadata": {},
     "output_type": "execute_result"
    }
   ],
   "source": [
    "37/5"
   ]
  },
  {
   "cell_type": "code",
   "execution_count": null,
   "metadata": {},
   "outputs": [],
   "source": [
    "7"
   ]
  }
 ],
 "metadata": {
  "kernelspec": {
   "display_name": "Python 3",
   "language": "python",
   "name": "python3"
  },
  "language_info": {
   "codemirror_mode": {
    "name": "ipython",
    "version": 3
   },
   "file_extension": ".py",
   "mimetype": "text/x-python",
   "name": "python",
   "nbconvert_exporter": "python",
   "pygments_lexer": "ipython3",
   "version": "3.6.6"
  }
 },
 "nbformat": 4,
 "nbformat_minor": 2
}
